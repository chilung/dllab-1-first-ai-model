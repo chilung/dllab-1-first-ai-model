{
 "cells": [
  {
   "cell_type": "code",
   "execution_count": 1,
   "metadata": {},
   "outputs": [],
   "source": [
    "%matplotlib inline"
   ]
  },
  {
   "cell_type": "code",
   "execution_count": 2,
   "metadata": {},
   "outputs": [],
   "source": [
    "import torch\n",
    "import torchvision\n",
    "import torchvision.transforms as transforms\n",
    "import torchvision.datasets as datasets"
   ]
  },
  {
   "cell_type": "code",
   "execution_count": 3,
   "metadata": {},
   "outputs": [],
   "source": [
    "def get_mean_and_std(dataset):\n",
    "    '''Compute the mean and std value of dataset.'''\n",
    "    dataloader = torch.utils.data.DataLoader(dataset, batch_size=1, shuffle=False, num_workers=2)\n",
    "\n",
    "    mean = torch.zeros(3)\n",
    "    std = torch.zeros(3)\n",
    "    print('==> Computing mean and std..')\n",
    "    for inputs, targets in dataloader:\n",
    "        for i in range(3):\n",
    "            mean[i] += inputs[:, i, :, :].mean()\n",
    "            std[i] += inputs[:, i, :, :].std()\n",
    "    mean.div_(len(dataset))\n",
    "    std.div_(len(dataset))\n",
    "    return mean, std"
   ]
  },
  {
   "cell_type": "code",
   "execution_count": 4,
   "metadata": {},
   "outputs": [
    {
     "name": "stdout",
     "output_type": "stream",
     "text": [
      "==> Check devices..\n",
      "Current device:  cuda\n",
      "Our selected device:  0\n",
      "1  GPUs is available\n"
     ]
    }
   ],
   "source": [
    "#To determine if your system supports CUDA\n",
    "print(\"==> Check devices..\")\n",
    "device = 'cuda' if torch.cuda.is_available() else 'cpu'\n",
    "print(\"Current device: \",device)\n",
    "\n",
    "#Also can print your current GPU id, and the number of GPUs you can use.\n",
    "print(\"Our selected device: \", torch.cuda.current_device())\n",
    "print(torch.cuda.device_count(), \" GPUs is available\")\n",
    "#device = 'cpu'"
   ]
  },
  {
   "cell_type": "code",
   "execution_count": 5,
   "metadata": {},
   "outputs": [
    {
     "name": "stdout",
     "output_type": "stream",
     "text": [
      "==> Preparing dataset..\n"
     ]
    }
   ],
   "source": [
    "print('==> Preparing dataset..')"
   ]
  },
  {
   "cell_type": "code",
   "execution_count": 6,
   "metadata": {},
   "outputs": [],
   "source": [
    "\"\"\"1.1\"\"\"\n",
    "img_size, linear_size, fc1_out, fc2_out = 224, 53, 120, 84\n",
    "\n",
    "calculate_mean_std = False\n",
    "\n",
    "if calculate_mean_std == True:\n",
    "    #The transform function for train data\n",
    "    transform_train = transforms.Compose([\n",
    "        transforms.Resize(img_size),\n",
    "        transforms.RandomCrop(img_size, padding=4),\n",
    "        transforms.ToTensor(),\n",
    "    ])\n",
    "\n",
    "    #The transform function for test data\n",
    "    transform_test = transforms.Compose([\n",
    "        transforms.Resize(img_size),\n",
    "        transforms.RandomCrop(img_size, padding=4),\n",
    "        transforms.ToTensor(),\n",
    "    ])\n",
    "\n",
    "    #we will calculate mean and std\n",
    "    \n",
    "    trainset = torchvision.datasets.ImageFolder(root='../data/food/train', transform=transform_train)\n",
    "    testset = torchvision.datasets.ImageFolder(root='../data/food/test', transform=transform_test)\n",
    "    \n",
    "    train_mean, train_std = get_mean_and_std(trainset)\n",
    "    print(train_mean, train_std)\n",
    "    test_mean, test_std = get_mean_and_std(testset)\n",
    "    print(test_mean, test_std)\n",
    "else:\n",
    "    train_mean, train_std = ([0.5551, 0.4478, 0.3366]), ([0.2337, 0.2414, 0.2386])\n",
    "    test_mean, test_std = ([0.5607, 0.4518, 0.3425]), ([0.2333, 0.2415, 0.2385])\n",
    "    "
   ]
  },
  {
   "cell_type": "code",
   "execution_count": 7,
   "metadata": {},
   "outputs": [],
   "source": [
    "\"\"\"1.1+\"\"\"\n",
    "#The transform function for train data\n",
    "transform_train = transforms.Compose([\n",
    "    transforms.RandomResizedCrop(224),\n",
    "    transforms.RandomHorizontalFlip(),\n",
    "    transforms.ToTensor(),\n",
    "    transforms.Normalize(train_mean, train_std)\n",
    "])\n",
    "\n",
    "#The transform function for test data\n",
    "transform_test = transforms.Compose([\n",
    "    transforms.Resize(256),\n",
    "    transforms.CenterCrop(224),\n",
    "    transforms.ToTensor(),\n",
    "    transforms.Normalize(test_mean, test_std)\n",
    "])"
   ]
  },
  {
   "cell_type": "code",
   "execution_count": 8,
   "metadata": {},
   "outputs": [],
   "source": [
    "\"\"\"1.2+\"\"\"\n",
    "trainset = torchvision.datasets.ImageFolder(root='../data/food/train', transform=transform_train)\n",
    "testset = torchvision.datasets.ImageFolder(root='../data/food/test', transform=transform_test)"
   ]
  },
  {
   "cell_type": "code",
   "execution_count": 9,
   "metadata": {},
   "outputs": [],
   "source": [
    "\"\"\"1.3\"\"\"\n",
    "\n",
    "#Create DataLoader to draw samples from the dataset\n",
    "#In this case, we define a DataLoader to random sample our dataset. \n",
    "#For single sampling, we take one batch of data. Each batch consists 4 images\n",
    "trainloader = torch.utils.data.DataLoader(trainset, batch_size=32,\n",
    "shuffle=True, num_workers=2)\n",
    "\n",
    "testloader = torch.utils.data.DataLoader(testset, batch_size=32,\n",
    "shuffle=False, num_workers=2)"
   ]
  },
  {
   "cell_type": "code",
   "execution_count": 10,
   "metadata": {},
   "outputs": [],
   "source": [
    "classes = ('Bread', 'DairyProduct', 'Dessert', 'Egg', 'Friedfood',\n",
    "           'Meat', 'Noodles-Pasta', 'Rice', 'Seafood', 'Soup', 'Vegetable')"
   ]
  },
  {
   "cell_type": "code",
   "execution_count": 11,
   "metadata": {},
   "outputs": [
    {
     "name": "stdout",
     "output_type": "stream",
     "text": [
      "==> Building model..\n"
     ]
    }
   ],
   "source": [
    "print('==> Building model..')"
   ]
  },
  {
   "cell_type": "code",
   "execution_count": 12,
   "metadata": {},
   "outputs": [],
   "source": [
    "import torch.nn as nn"
   ]
  },
  {
   "cell_type": "code",
   "execution_count": 13,
   "metadata": {},
   "outputs": [],
   "source": [
    "# define your own model\n",
    "class Net(nn.Module):\n",
    "\n",
    "    #define the layers\n",
    "    def __init__(self):\n",
    "        super(Net, self).__init__()\n",
    "        self.conv1 = nn.Conv2d(3, 6, 5)\n",
    "        self.pool = nn.MaxPool2d(2, 2)\n",
    "        self.conv2 = nn.Conv2d(6, 16, 5)\n",
    "        self.fc1 = nn.Linear(16 * linear_size * linear_size, fc1_out)\n",
    "        self.fc2 = nn.Linear(fc1_out, fc2_out)\n",
    "        self.fc3 = nn.Linear(fc2_out, 11)\n",
    "        self.relu = nn.ReLU()\n",
    "        \n",
    "    #concatenate these layers\n",
    "    def forward(self, x):\n",
    "        x = self.pool(self.relu(self.conv1(x)))\n",
    "        x = self.pool(self.relu(self.conv2(x)))\n",
    "        x = x.view(-1, 16 * linear_size * linear_size)\n",
    "        x = self.relu(self.fc1(x))\n",
    "        x = self.relu(self.fc2(x))\n",
    "        x = self.fc3(x)\n",
    "        return x"
   ]
  },
  {
   "cell_type": "code",
   "execution_count": 14,
   "metadata": {},
   "outputs": [
    {
     "name": "stdout",
     "output_type": "stream",
     "text": [
      "cuda\n"
     ]
    }
   ],
   "source": [
    "#declare a new model\n",
    "net = Net()\n",
    "# change all model tensor into cuda type\n",
    "# something like weight & bias are the tensor \n",
    "#net = net.to(device)\n",
    "print(device)\n",
    "if device == 'cuda':\n",
    "    net = net.cuda(0)\n",
    "else:\n",
    "    net = net.cpu()"
   ]
  },
  {
   "cell_type": "markdown",
   "metadata": {},
   "source": [
    "########################################################################\n",
    "\n",
    "# 3. Define a Loss function and optimize\n",
    "\n",
    "########################################################################"
   ]
  },
  {
   "cell_type": "code",
   "execution_count": 15,
   "metadata": {},
   "outputs": [
    {
     "name": "stdout",
     "output_type": "stream",
     "text": [
      "==> Defining loss function and optimize..\n"
     ]
    }
   ],
   "source": [
    "print('==> Defining loss function and optimize..')"
   ]
  },
  {
   "cell_type": "code",
   "execution_count": 16,
   "metadata": {},
   "outputs": [],
   "source": [
    "import torch.optim as optim\n",
    "\n",
    "#loss function\n",
    "criterion = nn.CrossEntropyLoss()\n",
    "#optimization algorithm\n",
    "optimizer = optim.SGD(net.parameters(), lr=0.01, momentum=0.9, weight_decay=1e-3)"
   ]
  },
  {
   "cell_type": "markdown",
   "metadata": {},
   "source": [
    "########################################################################\n",
    "\n",
    "# 4. Train the network\n",
    "\n",
    "Before training the model, we need to analysis the tensor variable.\n",
    "\n",
    "\n",
    "Each variable have many attibute, like: .grad_fn, .require_grad, .data, .grad...etc. The \".grad_fn\" attribute of \"torch.Tensor\" is an entry point into the function that has create this \"torch.Tensor\" variables. Because of \".grad_fn\" flag, we can easily create a computing graph in the form of DAG(directed acyclic graph).\n",
    "\n",
    "And then, the \".require_grad\" attribute allows us to determine whether the backward propagation function is going to calculate the gradient of this \"torch.Tensor\" variable. If one variable has a false value of require_grad, it represent that you don't want to calculate this variable's gradient, and also its gradient will not be updated.\n",
    "\n",
    "########################################################################"
   ]
  },
  {
   "cell_type": "code",
   "execution_count": 17,
   "metadata": {},
   "outputs": [
    {
     "name": "stdout",
     "output_type": "stream",
     "text": [
      "==> Training model..\n"
     ]
    }
   ],
   "source": [
    "print('==> Training model..')"
   ]
  },
  {
   "cell_type": "code",
   "execution_count": 18,
   "metadata": {},
   "outputs": [],
   "source": [
    "#Set the model in training mode\n",
    "#because some function like: dropout, batchnorm...etc, will have \n",
    "#different behaviors in training/evaluation mode\n",
    "#[document]: https://pytorch.org/docs/stable/nn.html#trchs.nn.Module.train\n",
    "net.train()\n",
    "#scheduler = torch.optim.lr_scheduler.StepLR(optimizer, step_size=30, gamma=0.1)\n",
    "#scheduler = torch.optim.lr_scheduler.MultiStepLR(optimizer, milestones=[30,80], gamma=0.1)\n",
    "scheduler = torch.optim.lr_scheduler.ReduceLROnPlateau(optimizer, mode='max', verbose=True)"
   ]
  },
  {
   "cell_type": "code",
   "execution_count": 20,
   "metadata": {
    "scrolled": true
   },
   "outputs": [
    {
     "name": "stdout",
     "output_type": "stream",
     "text": [
      "1 epoch, training accuracy: 20.25%, loss = 0.0696\n",
      "2 epoch, training accuracy: 21.12%, loss = 0.0688\n",
      "3 epoch, training accuracy: 22.42%, loss = 0.0682\n",
      "4 epoch, training accuracy: 24.07%, loss = 0.0666\n",
      "5 epoch, training accuracy: 27.33%, loss = 0.0645\n",
      "6 epoch, training accuracy: 29.04%, loss = 0.0631\n",
      "7 epoch, training accuracy: 30.76%, loss = 0.0617\n",
      "8 epoch, training accuracy: 31.66%, loss = 0.0612\n",
      "9 epoch, training accuracy: 32.24%, loss = 0.0599\n",
      "10 epoch, training accuracy: 33.64%, loss = 0.0594\n",
      "11 epoch, training accuracy: 33.66%, loss = 0.0588\n",
      "12 epoch, training accuracy: 33.22%, loss = 0.0596\n",
      "13 epoch, training accuracy: 33.46%, loss = 0.0593\n",
      "14 epoch, training accuracy: 34.35%, loss = 0.0586\n",
      "15 epoch, training accuracy: 34.91%, loss = 0.0581\n",
      "16 epoch, training accuracy: 35.83%, loss = 0.0573\n",
      "17 epoch, training accuracy: 37.22%, loss = 0.0570\n",
      "18 epoch, training accuracy: 37.28%, loss = 0.0565\n",
      "19 epoch, training accuracy: 36.83%, loss = 0.0564\n",
      "20 epoch, training accuracy: 37.34%, loss = 0.0557\n",
      "21 epoch, training accuracy: 39.15%, loss = 0.0550\n",
      "22 epoch, training accuracy: 39.49%, loss = 0.0544\n",
      "23 epoch, training accuracy: 39.60%, loss = 0.0546\n",
      "24 epoch, training accuracy: 39.25%, loss = 0.0547\n",
      "25 epoch, training accuracy: 39.79%, loss = 0.0540\n",
      "26 epoch, training accuracy: 41.02%, loss = 0.0535\n",
      "27 epoch, training accuracy: 40.98%, loss = 0.0538\n",
      "28 epoch, training accuracy: 40.58%, loss = 0.0532\n",
      "29 epoch, training accuracy: 40.86%, loss = 0.0533\n",
      "30 epoch, training accuracy: 41.17%, loss = 0.0529\n",
      "31 epoch, training accuracy: 41.68%, loss = 0.0528\n",
      "32 epoch, training accuracy: 41.44%, loss = 0.0530\n",
      "33 epoch, training accuracy: 42.01%, loss = 0.0528\n",
      "34 epoch, training accuracy: 42.39%, loss = 0.0520\n",
      "35 epoch, training accuracy: 42.52%, loss = 0.0520\n",
      "36 epoch, training accuracy: 43.48%, loss = 0.0515\n",
      "37 epoch, training accuracy: 43.09%, loss = 0.0515\n",
      "38 epoch, training accuracy: 41.95%, loss = 0.0522\n",
      "39 epoch, training accuracy: 43.76%, loss = 0.0511\n",
      "40 epoch, training accuracy: 43.51%, loss = 0.0514\n",
      "41 epoch, training accuracy: 43.35%, loss = 0.0513\n",
      "42 epoch, training accuracy: 44.03%, loss = 0.0510\n",
      "43 epoch, training accuracy: 43.12%, loss = 0.0514\n",
      "44 epoch, training accuracy: 43.88%, loss = 0.0510\n",
      "45 epoch, training accuracy: 44.26%, loss = 0.0504\n",
      "46 epoch, training accuracy: 44.27%, loss = 0.0506\n",
      "47 epoch, training accuracy: 43.65%, loss = 0.0508\n",
      "48 epoch, training accuracy: 43.98%, loss = 0.0507\n",
      "49 epoch, training accuracy: 44.71%, loss = 0.0501\n",
      "50 epoch, training accuracy: 45.21%, loss = 0.0502\n",
      "51 epoch, training accuracy: 44.55%, loss = 0.0505\n",
      "52 epoch, training accuracy: 44.83%, loss = 0.0499\n",
      "53 epoch, training accuracy: 45.48%, loss = 0.0498\n",
      "54 epoch, training accuracy: 44.53%, loss = 0.0496\n",
      "55 epoch, training accuracy: 45.38%, loss = 0.0496\n",
      "56 epoch, training accuracy: 45.64%, loss = 0.0494\n",
      "57 epoch, training accuracy: 45.86%, loss = 0.0490\n",
      "58 epoch, training accuracy: 45.31%, loss = 0.0495\n",
      "59 epoch, training accuracy: 46.41%, loss = 0.0489\n",
      "60 epoch, training accuracy: 45.22%, loss = 0.0494\n",
      "61 epoch, training accuracy: 46.16%, loss = 0.0490\n",
      "62 epoch, training accuracy: 45.79%, loss = 0.0495\n",
      "63 epoch, training accuracy: 45.93%, loss = 0.0489\n",
      "64 epoch, training accuracy: 46.29%, loss = 0.0486\n",
      "65 epoch, training accuracy: 46.35%, loss = 0.0492\n",
      "66 epoch, training accuracy: 45.27%, loss = 0.0492\n",
      "67 epoch, training accuracy: 46.68%, loss = 0.0484\n",
      "68 epoch, training accuracy: 46.52%, loss = 0.0486\n",
      "69 epoch, training accuracy: 46.14%, loss = 0.0488\n",
      "70 epoch, training accuracy: 46.18%, loss = 0.0485\n",
      "71 epoch, training accuracy: 46.61%, loss = 0.0492\n",
      "72 epoch, training accuracy: 46.14%, loss = 0.0487\n",
      "73 epoch, training accuracy: 45.45%, loss = 0.0488\n",
      "74 epoch, training accuracy: 46.46%, loss = 0.0484\n",
      "75 epoch, training accuracy: 46.45%, loss = 0.0482\n",
      "76 epoch, training accuracy: 46.21%, loss = 0.0484\n",
      "77 epoch, training accuracy: 46.48%, loss = 0.0488\n",
      "Epoch    77: reducing learning rate of group 0 to 1.0000e-03.\n",
      "78 epoch, training accuracy: 46.31%, loss = 0.0486\n",
      "79 epoch, training accuracy: 50.76%, loss = 0.0445\n",
      "80 epoch, training accuracy: 52.13%, loss = 0.0435\n",
      "81 epoch, training accuracy: 52.48%, loss = 0.0430\n",
      "82 epoch, training accuracy: 52.66%, loss = 0.0427\n",
      "83 epoch, training accuracy: 53.47%, loss = 0.0418\n",
      "84 epoch, training accuracy: 53.62%, loss = 0.0424\n",
      "85 epoch, training accuracy: 52.96%, loss = 0.0422\n",
      "86 epoch, training accuracy: 53.58%, loss = 0.0420\n",
      "87 epoch, training accuracy: 54.69%, loss = 0.0414\n",
      "88 epoch, training accuracy: 53.74%, loss = 0.0416\n",
      "89 epoch, training accuracy: 53.65%, loss = 0.0419\n",
      "90 epoch, training accuracy: 53.98%, loss = 0.0418\n",
      "91 epoch, training accuracy: 54.08%, loss = 0.0415\n",
      "92 epoch, training accuracy: 54.52%, loss = 0.0412\n",
      "93 epoch, training accuracy: 54.34%, loss = 0.0409\n",
      "94 epoch, training accuracy: 55.18%, loss = 0.0406\n",
      "95 epoch, training accuracy: 54.40%, loss = 0.0414\n",
      "96 epoch, training accuracy: 54.47%, loss = 0.0412\n",
      "97 epoch, training accuracy: 54.80%, loss = 0.0406\n",
      "98 epoch, training accuracy: 55.09%, loss = 0.0406\n",
      "99 epoch, training accuracy: 55.51%, loss = 0.0406\n",
      "100 epoch, training accuracy: 54.83%, loss = 0.0404\n",
      "101 epoch, training accuracy: 55.37%, loss = 0.0403\n",
      "102 epoch, training accuracy: 56.15%, loss = 0.0402\n",
      "103 epoch, training accuracy: 55.62%, loss = 0.0403\n",
      "104 epoch, training accuracy: 54.89%, loss = 0.0408\n",
      "105 epoch, training accuracy: 55.94%, loss = 0.0403\n",
      "106 epoch, training accuracy: 55.30%, loss = 0.0403\n",
      "107 epoch, training accuracy: 56.72%, loss = 0.0398\n",
      "108 epoch, training accuracy: 55.53%, loss = 0.0403\n",
      "109 epoch, training accuracy: 56.13%, loss = 0.0394\n",
      "110 epoch, training accuracy: 55.52%, loss = 0.0398\n",
      "111 epoch, training accuracy: 56.15%, loss = 0.0400\n",
      "112 epoch, training accuracy: 55.61%, loss = 0.0401\n",
      "113 epoch, training accuracy: 55.90%, loss = 0.0399\n",
      "114 epoch, training accuracy: 55.89%, loss = 0.0396\n",
      "115 epoch, training accuracy: 56.29%, loss = 0.0395\n",
      "116 epoch, training accuracy: 56.35%, loss = 0.0396\n",
      "117 epoch, training accuracy: 56.57%, loss = 0.0394\n",
      "Epoch   117: reducing learning rate of group 0 to 1.0000e-04.\n",
      "118 epoch, training accuracy: 56.55%, loss = 0.0394\n",
      "119 epoch, training accuracy: 57.46%, loss = 0.0384\n",
      "120 epoch, training accuracy: 57.63%, loss = 0.0389\n",
      "121 epoch, training accuracy: 57.63%, loss = 0.0383\n",
      "122 epoch, training accuracy: 58.10%, loss = 0.0381\n",
      "123 epoch, training accuracy: 58.22%, loss = 0.0380\n",
      "124 epoch, training accuracy: 57.79%, loss = 0.0384\n",
      "125 epoch, training accuracy: 57.48%, loss = 0.0386\n",
      "126 epoch, training accuracy: 57.68%, loss = 0.0382\n",
      "127 epoch, training accuracy: 57.81%, loss = 0.0380\n",
      "128 epoch, training accuracy: 57.98%, loss = 0.0383\n",
      "129 epoch, training accuracy: 56.75%, loss = 0.0384\n",
      "130 epoch, training accuracy: 57.91%, loss = 0.0382\n",
      "131 epoch, training accuracy: 57.93%, loss = 0.0382\n",
      "132 epoch, training accuracy: 58.35%, loss = 0.0383\n",
      "133 epoch, training accuracy: 57.05%, loss = 0.0384\n",
      "134 epoch, training accuracy: 58.02%, loss = 0.0383\n",
      "135 epoch, training accuracy: 58.40%, loss = 0.0379\n",
      "136 epoch, training accuracy: 57.53%, loss = 0.0381\n",
      "137 epoch, training accuracy: 57.44%, loss = 0.0383\n",
      "138 epoch, training accuracy: 58.07%, loss = 0.0383\n",
      "139 epoch, training accuracy: 57.87%, loss = 0.0382\n",
      "140 epoch, training accuracy: 58.50%, loss = 0.0377\n",
      "141 epoch, training accuracy: 57.72%, loss = 0.0383\n",
      "142 epoch, training accuracy: 57.47%, loss = 0.0383\n",
      "143 epoch, training accuracy: 57.66%, loss = 0.0384\n",
      "144 epoch, training accuracy: 57.99%, loss = 0.0377\n",
      "145 epoch, training accuracy: 58.02%, loss = 0.0382\n",
      "146 epoch, training accuracy: 58.04%, loss = 0.0379\n",
      "147 epoch, training accuracy: 57.87%, loss = 0.0380\n",
      "148 epoch, training accuracy: 57.99%, loss = 0.0382\n",
      "149 epoch, training accuracy: 58.53%, loss = 0.0382\n",
      "150 epoch, training accuracy: 58.23%, loss = 0.0382\n",
      "Finished Training\n"
     ]
    }
   ],
   "source": [
    "for epoch in range(150):  # loop over the dataset multiple times\n",
    "    #scheduler.step()\n",
    "    running_loss = 0.0\n",
    "    correct = 0\n",
    "    for i, (inputs, labels) in enumerate(trainloader, 0):\n",
    "        \n",
    "        #change the type into cuda tensor \n",
    "        if device == 'cuda':\n",
    "            inputs = inputs.cuda(0)\n",
    "            labels = labels.cuda(0)\n",
    "        else:\n",
    "            inputs = inputs.cpu()\n",
    "            labels = labels.cpu()\n",
    "\n",
    "        #print(labels)\n",
    "        #print(inputs)\n",
    "        \n",
    "        # zero the parameter gradients\n",
    "        optimizer.zero_grad()\n",
    "\n",
    "        # forward + backward + optimize\n",
    "        outputs = net(inputs)\n",
    "        # select the class with highest probability\n",
    "        _, pred = outputs.max(1)\n",
    "        # if the model predicts the same results as the true\n",
    "        # label, then the correct counter will plus 1\n",
    "        correct += pred.eq(labels).sum().item()\n",
    "        \n",
    "        loss = criterion(outputs, labels)\n",
    "        \n",
    "        loss.backward()\n",
    "        optimizer.step()\n",
    "\n",
    "        # print statistics\n",
    "        running_loss += loss.item()\n",
    "        \n",
    "    scheduler.step(100.*correct/len(trainset))\n",
    "    print('%d epoch, training accuracy: %.2f%%, loss = %.4f' %\n",
    "          (epoch+1, 100.*correct/len(trainset), running_loss/len(trainset)))\n",
    "print('Finished Training')"
   ]
  },
  {
   "cell_type": "code",
   "execution_count": 21,
   "metadata": {},
   "outputs": [
    {
     "data": {
      "image/png": "[encoded data removed]",
      "text/plain": [
       "<Figure size 432x288 with 1 Axes>"
      ]
     },
     "metadata": {
      "needs_background": "light"
     },
     "output_type": "display_data"
    },
    {
     "data": {
      "image/png": "[encoded data removed]",
      "text/plain": [
       "<Figure size 432x288 with 1 Axes>"
      ]
     },
     "metadata": {
      "needs_background": "light"
     },
     "output_type": "display_data"
    },
    {
     "data": {
      "image/png": "[encoded data removed]",
      "text/plain": [
       "<Figure size 432x288 with 1 Axes>"
      ]
     },
     "metadata": {
      "needs_background": "light"
     },
     "output_type": "display_data"
    },
    {
     "data": {
      "image/png": "[encoded data removed]",
      "text/plain": [
       "<Figure size 432x288 with 1 Axes>"
      ]
     },
     "metadata": {
      "needs_background": "light"
     },
     "output_type": "display_data"
    },
    {
     "data": {
      "image/png": "[encoded data removed]",
      "text/plain": [
       "<Figure size 432x288 with 1 Axes>"
      ]
     },
     "metadata": {
      "needs_background": "light"
     },
     "output_type": "display_data"
    },
    {
     "data": {
      "image/png": "[encoded data removed]",
      "text/plain": [
       "<Figure size 432x288 with 1 Axes>"
      ]
     },
     "metadata": {
      "needs_background": "light"
     },
     "output_type": "display_data"
    },
    {
     "data": {
      "image/png": "[encoded data removed]",
      "text/plain": [
       "<Figure size 432x288 with 1 Axes>"
      ]
     },
     "metadata": {
      "needs_background": "light"
     },
     "output_type": "display_data"
    },
    {
     "data": {
      "image/png": "[encoded data removed]",
      "text/plain": [
       "<Figure size 432x288 with 1 Axes>"
      ]
     },
     "metadata": {
      "needs_background": "light"
     },
     "output_type": "display_data"
    },
    {
     "data": {
      "image/png": "[encoded data removed]",
      "text/plain": [
       "<Figure size 432x288 with 1 Axes>"
      ]
     },
     "metadata": {
      "needs_background": "light"
     },
     "output_type": "display_data"
    },
    {
     "data": {
      "image/png": "[encoded data removed]",
      "text/plain": [
       "<Figure size 432x288 with 1 Axes>"
      ]
     },
     "metadata": {
      "needs_background": "light"
     },
     "output_type": "display_data"
    }
   ],
   "source": [
    "######################\n",
    "#######LAB 1-1########\n",
    "\"\"\"\n",
    "To Do Here\n",
    "        You should show the weight distribution of the convolution layer (conv1, conv2)\n",
    "        You should show the bias distribution of the convolution layer (conv1, conv2)\n",
    "        [hint] you can use matplotlib package to show the result in here\n",
    "\"\"\"\n",
    "######################\n",
    "import numpy as np\n",
    "import matplotlib.mlab as mlab\n",
    "import matplotlib.pyplot as plt\n",
    "\n",
    "x = net.conv1.weight.view(-1,1).cpu().detach().numpy()\n",
    "n, bins, patches = plt.hist(x, facecolor='green', alpha=0.75)\n",
    "\n",
    "plt.xlabel('conv1-weight')\n",
    "plt.ylabel('Probability')\n",
    "plt.title('weight distribution of the convolution layer conv1')\n",
    "\n",
    "plt.grid(True)\n",
    "plt.show()\n",
    "\n",
    "x = net.conv2.weight.view(-1,1).cpu().detach().numpy()\n",
    "n, bins, patches = plt.hist(x, facecolor='green', alpha=0.75)\n",
    "\n",
    "plt.xlabel('conv2-weight')\n",
    "plt.ylabel('Probability')\n",
    "plt.title('weight distribution of the convolution layer conv2')\n",
    "\n",
    "plt.grid(True)\n",
    "plt.show()\n",
    "\n",
    "x = net.fc1.weight.view(-1,1).cpu().detach().numpy()\n",
    "n, bins, patches = plt.hist(x, facecolor='green', alpha=0.75)\n",
    "\n",
    "plt.xlabel('fc1-weight')\n",
    "plt.ylabel('Probability')\n",
    "plt.title('weight distribution of the convolution layer fc1')\n",
    "\n",
    "plt.grid(True)\n",
    "plt.show()\n",
    "\n",
    "x = net.fc2.weight.view(-1,1).cpu().detach().numpy()\n",
    "n, bins, patches = plt.hist(x, facecolor='green', alpha=0.75)\n",
    "\n",
    "plt.xlabel('fc2-weight')\n",
    "plt.ylabel('Probability')\n",
    "plt.title('weight distribution of the convolution layer fc2')\n",
    "\n",
    "plt.grid(True)\n",
    "plt.show()\n",
    "\n",
    "x = net.fc3.weight.view(-1,1).cpu().detach().numpy()\n",
    "n, bins, patches = plt.hist(x, facecolor='green', alpha=0.75)\n",
    "\n",
    "plt.xlabel('fc3-weight')\n",
    "plt.ylabel('Probability')\n",
    "plt.title('weight distribution of the convolution layer fc3')\n",
    "\n",
    "plt.grid(True)\n",
    "plt.show()\n",
    "\n",
    "x = net.conv1.bias.view(-1,1).cpu().detach().numpy()\n",
    "n, bins, patches = plt.hist(x, facecolor='green', alpha=0.75)\n",
    "\n",
    "plt.xlabel('conv1-bias')\n",
    "plt.ylabel('Probability')\n",
    "plt.title('bias distribution of the convolution layer conv1')\n",
    "\n",
    "plt.grid(True)\n",
    "plt.show()\n",
    "\n",
    "x = net.conv2.bias.view(-1,1).cpu().detach().numpy()\n",
    "n, bins, patches = plt.hist(x, facecolor='green', alpha=0.75)\n",
    "\n",
    "plt.xlabel('conv2-bias')\n",
    "plt.ylabel('Probability')\n",
    "plt.title('bias distribution of the convolution layer conv2')\n",
    "\n",
    "plt.grid(True)\n",
    "plt.show()\n",
    "\n",
    "x = net.fc1.bias.view(-1,1).cpu().detach().numpy()\n",
    "n, bins, patches = plt.hist(x, facecolor='green', alpha=0.75)\n",
    "\n",
    "plt.xlabel('fc1-bias')\n",
    "plt.ylabel('Probability')\n",
    "plt.title('bias distribution of the convolution layer fc1')\n",
    "\n",
    "plt.grid(True)\n",
    "plt.show()\n",
    "\n",
    "x = net.fc2.bias.view(-1,1).cpu().detach().numpy()\n",
    "n, bins, patches = plt.hist(x, facecolor='green', alpha=0.75)\n",
    "\n",
    "plt.xlabel('fc2-bias')\n",
    "plt.ylabel('Probability')\n",
    "plt.title('bias distribution of the convolution layer fc2')\n",
    "\n",
    "plt.grid(True)\n",
    "plt.show()\n",
    "\n",
    "x = net.fc3.bias.view(-1,1).cpu().detach().numpy()\n",
    "n, bins, patches = plt.hist(x, facecolor='green', alpha=0.75)\n",
    "\n",
    "plt.xlabel('fc3-bias')\n",
    "plt.ylabel('Probability')\n",
    "plt.title('bias distribution of the convolution layer fc3')\n",
    "\n",
    "plt.grid(True)\n",
    "plt.show()"
   ]
  },
  {
   "cell_type": "code",
   "execution_count": 22,
   "metadata": {},
   "outputs": [
    {
     "name": "stdout",
     "output_type": "stream",
     "text": [
      "==> Saving model..\n",
      "Finished Saving\n"
     ]
    },
    {
     "name": "stderr",
     "output_type": "stream",
     "text": [
      "/root/anaconda3/lib/python3.7/site-packages/torch/serialization.py:241: UserWarning: Couldn't retrieve source code for container of type Net. It won't be checked for correctness upon loading.\n",
      "  \"type \" + obj.__name__ + \". It won't be checked \"\n"
     ]
    }
   ],
   "source": [
    "#After training , save the model first\n",
    "#You can saves only the model parameters or entire model\n",
    "#Some difference between the two is that entire model \n",
    "#not only include parameters but also record hwo each \n",
    "#layer is connected(forward method).\n",
    "#[document]: https://pytorch.org/docs/master/notes/serialization.html\n",
    "\n",
    "print('==> Saving model..')\n",
    "\n",
    "#only save model parameters\n",
    "torch.save(net.state_dict(), './lab1-3v3_checkpoint.t7')\n",
    "#you also can store some log information\n",
    "state = {\n",
    "    'net': net.state_dict(),\n",
    "    'acc': 100.*correct/len(trainset),\n",
    "    'epoch': 75\n",
    "}\n",
    "torch.save(state, './lab1-3v3_checkpoint.t7')\n",
    "\n",
    "#save entire model\n",
    "torch.save(net, './lab1-3v3_model.pt')\n",
    "\n",
    "print('Finished Saving')"
   ]
  },
  {
   "cell_type": "markdown",
   "metadata": {},
   "source": [
    "########################################################################\n",
    "\n",
    "# 5. Test the network on the test data\n",
    "\n",
    "########################################################################"
   ]
  },
  {
   "cell_type": "code",
   "execution_count": 23,
   "metadata": {},
   "outputs": [
    {
     "name": "stdout",
     "output_type": "stream",
     "text": [
      "==> Loading model..\n",
      "Finished Loading\n"
     ]
    }
   ],
   "source": [
    "#Before testing, we can load the saved model\n",
    "#Depend on how you save your model, need \n",
    "#different way to use it\n",
    "\n",
    "print('==> Loading model..')\n",
    "\n",
    "#If you just save the model parameters, you\n",
    "#need to redefine the model architecture, and\n",
    "#load the parameters into your model\n",
    "net = Net()\n",
    "checkpoint = torch.load('./lab1-3v3_checkpoint.t7')\n",
    "net.load_state_dict(checkpoint['net'])\n",
    "\n",
    "#If you save the entire model\n",
    "net = torch.load('./lab1-3v3_model.pt')\n",
    "\n",
    "print('Finished Loading')"
   ]
  },
  {
   "cell_type": "code",
   "execution_count": 24,
   "metadata": {},
   "outputs": [
    {
     "name": "stdout",
     "output_type": "stream",
     "text": [
      "==> Testing model..\n"
     ]
    },
    {
     "data": {
      "text/plain": [
       "Net(\n",
       "  (conv1): Conv2d(3, 6, kernel_size=(5, 5), stride=(1, 1))\n",
       "  (pool): MaxPool2d(kernel_size=2, stride=2, padding=0, dilation=1, ceil_mode=False)\n",
       "  (conv2): Conv2d(6, 16, kernel_size=(5, 5), stride=(1, 1))\n",
       "  (fc1): Linear(in_features=44944, out_features=120, bias=True)\n",
       "  (fc2): Linear(in_features=120, out_features=84, bias=True)\n",
       "  (fc3): Linear(in_features=84, out_features=11, bias=True)\n",
       "  (relu): ReLU()\n",
       ")"
      ]
     },
     "execution_count": 24,
     "metadata": {},
     "output_type": "execute_result"
    }
   ],
   "source": [
    "print('==> Testing model..')\n",
    "\n",
    "#Set the model in evaluation mode\n",
    "#[document]: https://pytorch.org/docs/stable/nn.html#torch.nn.Module.eval \n",
    "net.eval()\n"
   ]
  },
  {
   "cell_type": "code",
   "execution_count": 25,
   "metadata": {},
   "outputs": [
    {
     "name": "stdout",
     "output_type": "stream",
     "text": [
      "Accuracy of the network on the 3347 test images: 60%, and loss is: 0.035\n",
      "Accuracy of Bread : 38 %\n",
      "Accuracy of DairyProduct : 22 %\n",
      "Accuracy of Dessert : 89 %\n",
      "Accuracy of   Egg : 50 %\n",
      "Accuracy of Friedfood : 55 %\n",
      "Accuracy of  Meat : 62 %\n",
      "Accuracy of Noodles-Pasta : 69 %\n",
      "Accuracy of  Rice : 66 %\n",
      "Accuracy of Seafood : 44 %\n",
      "Accuracy of  Soup : 65 %\n",
      "Accuracy of Vegetable : 77 %\n"
     ]
    }
   ],
   "source": [
    "######################\n",
    "#######LAB 1-1########\n",
    "\"\"\"\n",
    "To Do Here\n",
    "\n",
    "        You should complete the testing step in LAB 1-1\n",
    "You should show the total accuracy & loss [10000 cifar10 test cases]\n",
    "  You also need to tell us, how about the accuracy for each class\n",
    " \n",
    "    For example: Total accuracy is: 60.0% and loss is: 0.02  \n",
    "                 For each class in cifar 10:\n",
    "                 Accuracy of plane : 58.0%\n",
    "                 Accuracy of   car : 22.4%\n",
    "                            .\n",
    "                            .\n",
    "                            .\n",
    "\"\"\"\n",
    "######################\n",
    "correct = 0\n",
    "total = 0\n",
    "running_loss = 0.0\n",
    "\n",
    "class_correct = list(0. for i in range(11))\n",
    "class_total = list(0. for i in range(11))\n",
    "\n",
    "with torch.no_grad():\n",
    "    test_run = 0\n",
    "    for data in testloader:\n",
    "        images, labels = data\n",
    "\n",
    "        if device == 'cuda':\n",
    "            images = images.cuda(0)\n",
    "            labels = labels.cuda(0)\n",
    "        else:\n",
    "            images = images.cpu()\n",
    "            labels = labels.cpu()\n",
    "        \n",
    "        #print(test_run, \" \", end=\"\")\n",
    "        #test_run = test_run + labels.size(0)\n",
    "        \n",
    "        outputs = net(images)\n",
    "        _, predicted = torch.max(outputs, 1)\n",
    "        \n",
    "        total += labels.size(0)\n",
    "        correct += (predicted == labels).sum().item()\n",
    "\n",
    "        loss = criterion(outputs, labels)\n",
    "        running_loss += loss.item()\n",
    "\n",
    "        c = (predicted == labels).squeeze()\n",
    "        #print(predicted)\n",
    "        #print(labels.size(0))\n",
    "        #print(\"(\", c, \"), \")\n",
    "        for i in range(labels.size(0)):\n",
    "            label = labels[i]\n",
    "            class_correct[label] += c[i].item()\n",
    "            class_total[label] += 1\n",
    "\n",
    "print('Accuracy of the network on the %d test images: %d%%, and loss is: %.3f'\n",
    "      % (total, 100 * correct / total, running_loss / total))\n",
    "\n",
    "for i in range(11):\n",
    "    print('Accuracy of %5s : %2d %%' % (\n",
    "        classes[i], 100 * class_correct[i] / class_total[i]))"
   ]
  },
  {
   "cell_type": "code",
   "execution_count": 33,
   "metadata": {},
   "outputs": [],
   "source": [
    "import os\n",
    "import sys\n",
    "import re\n",
    "from collections import OrderedDict\n",
    "\n",
    "def train_acc_loss_result(fname):\n",
    "\n",
    "    dictionary_acc = OrderedDict()\n",
    "    dictionary_best = OrderedDict()\n",
    "    dictionary_loss = OrderedDict()\n",
    "    dictionary_lr = OrderedDict()\n",
    "    \n",
    "    with open(fname) as fp:  \n",
    "        best = 0\n",
    "        \n",
    "        for cnt, line in enumerate(fp):\n",
    "            # print(\"Line {}: {}\".format(cnt, line))\n",
    "            # 199 Epoch val Loss: 0.0798 Acc: 0.8258\n",
    "            pattern = re.compile(r\"(\\d+) Epoch val Loss: (\\d+.\\d+) Acc: (\\d+.\\d+)\")\n",
    "            match = pattern.match(line)\n",
    "            if match:\n",
    "                epoch_str, loss_str, acc_str = match.groups()\n",
    "                print('Validation --- Epoch: {:s}, loss: {:s}, acc: {:s}'.\n",
    "                      format(epoch_str, loss_str, acc_str))\n",
    "\n",
    "                Epoch = int(epoch_str)\n",
    "                loss = float(\"{:f}\".format(float(loss_str)))\n",
    "                acc = float(\"{:f}\".format(float(acc_str)))\n",
    "                \n",
    "                if(best < acc):\n",
    "                    best = acc\n",
    "                    \n",
    "                dictionary_best[Epoch] = best\n",
    "                \n",
    "            # 78 epoch, training accuracy: 46.31%, loss = 0.0486\n",
    "            pattern = re.compile(r\"(\\d+) epoch, training accuracy: (\\d+.\\d+)%, loss = (\\d+.\\d+)\")\n",
    "            match = pattern.match(line)\n",
    "            if match:\n",
    "                epoch_str, acc_str, loss_str = match.groups()\n",
    "                print('Training --- Epoch: {:s}, loss: {:s}, acc: {:s}'.\n",
    "                      format(epoch_str, acc_str, loss_str))\n",
    "\n",
    "                Epoch = int(epoch_str)\n",
    "                acc = float(\"{:f}\".format(float(acc_str)))\n",
    "                loss = float(\"{:f}\".format(float(loss_str)))\n",
    "                \n",
    "                dictionary_acc[Epoch] = acc\n",
    "                dictionary_loss[Epoch] = loss\n",
    "\n",
    "            # Epoch    77: reducing learning rate of group 0 to 1.0000e-03.\n",
    "            # Epoch   117: reducing learning rate of group 0 to 1.0000e-04.\n",
    "            pattern = re.compile(r\"Epoch(\\s+)(\\d+): reducing learning rate of group 0 to (\\d+.\\d+e-\\d+).\")\n",
    "            match = pattern.match(line)\n",
    "            if match:\n",
    "                space_str, epoch_str, lr_str = match.groups()\n",
    "                print('Learning Rate --- Epoch: {:s}, lr: {:s}'.\n",
    "                      format(epoch_str, lr_str))\n",
    "\n",
    "                Epoch = int(epoch_str)\n",
    "                lr = float(\"{0:f}\".format(float(lr_str)))\n",
    "                \n",
    "                dictionary_lr[Epoch] = lr\n",
    "                \n",
    "    return dictionary_acc, dictionary_loss, dictionary_lr"
   ]
  },
  {
   "cell_type": "code",
   "execution_count": 34,
   "metadata": {},
   "outputs": [],
   "source": [
    "import matplotlib.pyplot as plt\n",
    "import itertools\n",
    "\n",
    "def show_train_acc(dictionary_acc, dictionary_loss, dictionary_lr):\n",
    "    fig, ax1 = plt.subplots()\n",
    "\n",
    "    fig.set_figheight(20)\n",
    "    fig.set_figwidth(20)\n",
    "\n",
    "    ax1.set_title('Training/Validation Accuracy & Loss / Learning Rate', fontsize=20)\n",
    "\n",
    "    ax2 = ax1.twinx()\n",
    "    ax2.figure.figsize=(120,120)\n",
    "    \n",
    "    l1, = ax1.plot(list(dictionary_acc.keys()), list(dictionary_acc.values()), 'b-')\n",
    "    l2, = ax2.plot(list(dictionary_loss.keys()), list(dictionary_loss.values()), 'r--')\n",
    "    l3, = ax2.plot(list(dictionary_lr.keys()), list(dictionary_lr.values()), 'ro')\n",
    "    \n",
    "    plt.xticks(fontsize=20)\n",
    "    plt.yticks(fontsize=20)\n",
    "\n",
    "    ax1.tick_params(axis='both', which='major', labelsize=20)\n",
    "    ax2.tick_params(axis='y', which='major', labelsize=20)\n",
    "\n",
    "    ax1.set_xlabel('Epoch', fontsize=20)\n",
    "    ax1.set_ylabel('Accuracy', fontsize=20, color='#008888')\n",
    "    ax2.set_ylabel('Loss / rate', fontsize=20, color='r')\n",
    "    ax2.set_yscale(\"log\", nonposy='clip')\n",
    "\n",
    "    #ax1.set(ylim=[0, 100])\n",
    "    #ax2.set(ylim=[0, 0.2])\n",
    "    \n",
    "    ax1.grid(axis='both', which='both')\n",
    "    plt.legend(handles=[l1, l2, l3],\n",
    "               labels=['Train Accuracy', 'Loss', 'learning rate'], fontsize=20, loc='right')\n",
    "\n",
    "    plt.show()"
   ]
  },
  {
   "cell_type": "code",
   "execution_count": 35,
   "metadata": {},
   "outputs": [
    {
     "name": "stdout",
     "output_type": "stream",
     "text": [
      "Training --- Epoch: 1, loss: 20.25, acc: 0.0696\n",
      "Training --- Epoch: 2, loss: 21.12, acc: 0.0688\n",
      "Training --- Epoch: 3, loss: 22.42, acc: 0.0682\n",
      "Training --- Epoch: 4, loss: 24.07, acc: 0.0666\n",
      "Training --- Epoch: 5, loss: 27.33, acc: 0.0645\n",
      "Training --- Epoch: 6, loss: 29.04, acc: 0.0631\n",
      "Training --- Epoch: 7, loss: 30.76, acc: 0.0617\n",
      "Training --- Epoch: 8, loss: 31.66, acc: 0.0612\n",
      "Training --- Epoch: 9, loss: 32.24, acc: 0.0599\n",
      "Training --- Epoch: 10, loss: 33.64, acc: 0.0594\n",
      "Training --- Epoch: 11, loss: 33.66, acc: 0.0588\n",
      "Training --- Epoch: 12, loss: 33.22, acc: 0.0596\n",
      "Training --- Epoch: 13, loss: 33.46, acc: 0.0593\n",
      "Training --- Epoch: 14, loss: 34.35, acc: 0.0586\n",
      "Training --- Epoch: 15, loss: 34.91, acc: 0.0581\n",
      "Training --- Epoch: 16, loss: 35.83, acc: 0.0573\n",
      "Training --- Epoch: 17, loss: 37.22, acc: 0.0570\n",
      "Training --- Epoch: 18, loss: 37.28, acc: 0.0565\n",
      "Training --- Epoch: 19, loss: 36.83, acc: 0.0564\n",
      "Training --- Epoch: 20, loss: 37.34, acc: 0.0557\n",
      "Training --- Epoch: 21, loss: 39.15, acc: 0.0550\n",
      "Training --- Epoch: 22, loss: 39.49, acc: 0.0544\n",
      "Training --- Epoch: 23, loss: 39.60, acc: 0.0546\n",
      "Training --- Epoch: 24, loss: 39.25, acc: 0.0547\n",
      "Training --- Epoch: 25, loss: 39.79, acc: 0.0540\n",
      "Training --- Epoch: 26, loss: 41.02, acc: 0.0535\n",
      "Training --- Epoch: 27, loss: 40.98, acc: 0.0538\n",
      "Training --- Epoch: 28, loss: 40.58, acc: 0.0532\n",
      "Training --- Epoch: 29, loss: 40.86, acc: 0.0533\n",
      "Training --- Epoch: 30, loss: 41.17, acc: 0.0529\n",
      "Training --- Epoch: 31, loss: 41.68, acc: 0.0528\n",
      "Training --- Epoch: 32, loss: 41.44, acc: 0.0530\n",
      "Training --- Epoch: 33, loss: 42.01, acc: 0.0528\n",
      "Training --- Epoch: 34, loss: 42.39, acc: 0.0520\n",
      "Training --- Epoch: 35, loss: 42.52, acc: 0.0520\n",
      "Training --- Epoch: 36, loss: 43.48, acc: 0.0515\n",
      "Training --- Epoch: 37, loss: 43.09, acc: 0.0515\n",
      "Training --- Epoch: 38, loss: 41.95, acc: 0.0522\n",
      "Training --- Epoch: 39, loss: 43.76, acc: 0.0511\n",
      "Training --- Epoch: 40, loss: 43.51, acc: 0.0514\n",
      "Training --- Epoch: 41, loss: 43.35, acc: 0.0513\n",
      "Training --- Epoch: 42, loss: 44.03, acc: 0.0510\n",
      "Training --- Epoch: 43, loss: 43.12, acc: 0.0514\n",
      "Training --- Epoch: 44, loss: 43.88, acc: 0.0510\n",
      "Training --- Epoch: 45, loss: 44.26, acc: 0.0504\n",
      "Training --- Epoch: 46, loss: 44.27, acc: 0.0506\n",
      "Training --- Epoch: 47, loss: 43.65, acc: 0.0508\n",
      "Training --- Epoch: 48, loss: 43.98, acc: 0.0507\n",
      "Training --- Epoch: 49, loss: 44.71, acc: 0.0501\n",
      "Training --- Epoch: 50, loss: 45.21, acc: 0.0502\n",
      "Training --- Epoch: 51, loss: 44.55, acc: 0.0505\n",
      "Training --- Epoch: 52, loss: 44.83, acc: 0.0499\n",
      "Training --- Epoch: 53, loss: 45.48, acc: 0.0498\n",
      "Training --- Epoch: 54, loss: 44.53, acc: 0.0496\n",
      "Training --- Epoch: 55, loss: 45.38, acc: 0.0496\n",
      "Training --- Epoch: 56, loss: 45.64, acc: 0.0494\n",
      "Training --- Epoch: 57, loss: 45.86, acc: 0.0490\n",
      "Training --- Epoch: 58, loss: 45.31, acc: 0.0495\n",
      "Training --- Epoch: 59, loss: 46.41, acc: 0.0489\n",
      "Training --- Epoch: 60, loss: 45.22, acc: 0.0494\n",
      "Training --- Epoch: 61, loss: 46.16, acc: 0.0490\n",
      "Training --- Epoch: 62, loss: 45.79, acc: 0.0495\n",
      "Training --- Epoch: 63, loss: 45.93, acc: 0.0489\n",
      "Training --- Epoch: 64, loss: 46.29, acc: 0.0486\n",
      "Training --- Epoch: 65, loss: 46.35, acc: 0.0492\n",
      "Training --- Epoch: 66, loss: 45.27, acc: 0.0492\n",
      "Training --- Epoch: 67, loss: 46.68, acc: 0.0484\n",
      "Training --- Epoch: 68, loss: 46.52, acc: 0.0486\n",
      "Training --- Epoch: 69, loss: 46.14, acc: 0.0488\n",
      "Training --- Epoch: 70, loss: 46.18, acc: 0.0485\n",
      "Training --- Epoch: 71, loss: 46.61, acc: 0.0492\n",
      "Training --- Epoch: 72, loss: 46.14, acc: 0.0487\n",
      "Training --- Epoch: 73, loss: 45.45, acc: 0.0488\n",
      "Training --- Epoch: 74, loss: 46.46, acc: 0.0484\n",
      "Training --- Epoch: 75, loss: 46.45, acc: 0.0482\n",
      "Training --- Epoch: 76, loss: 46.21, acc: 0.0484\n",
      "Training --- Epoch: 77, loss: 46.48, acc: 0.0488\n",
      "Learning Rate --- Epoch: 77, lr: 1.0000e-03\n",
      "Training --- Epoch: 78, loss: 46.31, acc: 0.0486\n",
      "Training --- Epoch: 79, loss: 50.76, acc: 0.0445\n",
      "Training --- Epoch: 80, loss: 52.13, acc: 0.0435\n",
      "Training --- Epoch: 81, loss: 52.48, acc: 0.0430\n",
      "Training --- Epoch: 82, loss: 52.66, acc: 0.0427\n",
      "Training --- Epoch: 83, loss: 53.47, acc: 0.0418\n",
      "Training --- Epoch: 84, loss: 53.62, acc: 0.0424\n",
      "Training --- Epoch: 85, loss: 52.96, acc: 0.0422\n",
      "Training --- Epoch: 86, loss: 53.58, acc: 0.0420\n",
      "Training --- Epoch: 87, loss: 54.69, acc: 0.0414\n",
      "Training --- Epoch: 88, loss: 53.74, acc: 0.0416\n",
      "Training --- Epoch: 89, loss: 53.65, acc: 0.0419\n",
      "Training --- Epoch: 90, loss: 53.98, acc: 0.0418\n",
      "Training --- Epoch: 91, loss: 54.08, acc: 0.0415\n",
      "Training --- Epoch: 92, loss: 54.52, acc: 0.0412\n",
      "Training --- Epoch: 93, loss: 54.34, acc: 0.0409\n",
      "Training --- Epoch: 94, loss: 55.18, acc: 0.0406\n",
      "Training --- Epoch: 95, loss: 54.40, acc: 0.0414\n",
      "Training --- Epoch: 96, loss: 54.47, acc: 0.0412\n",
      "Training --- Epoch: 97, loss: 54.80, acc: 0.0406\n",
      "Training --- Epoch: 98, loss: 55.09, acc: 0.0406\n",
      "Training --- Epoch: 99, loss: 55.51, acc: 0.0406\n",
      "Training --- Epoch: 100, loss: 54.83, acc: 0.0404\n",
      "Training --- Epoch: 101, loss: 55.37, acc: 0.0403\n",
      "Training --- Epoch: 102, loss: 56.15, acc: 0.0402\n",
      "Training --- Epoch: 103, loss: 55.62, acc: 0.0403\n",
      "Training --- Epoch: 104, loss: 54.89, acc: 0.0408\n",
      "Training --- Epoch: 105, loss: 55.94, acc: 0.0403\n",
      "Training --- Epoch: 106, loss: 55.30, acc: 0.0403\n",
      "Training --- Epoch: 107, loss: 56.72, acc: 0.0398\n",
      "Training --- Epoch: 108, loss: 55.53, acc: 0.0403\n",
      "Training --- Epoch: 109, loss: 56.13, acc: 0.0394\n",
      "Training --- Epoch: 110, loss: 55.52, acc: 0.0398\n",
      "Training --- Epoch: 111, loss: 56.15, acc: 0.0400\n",
      "Training --- Epoch: 112, loss: 55.61, acc: 0.0401\n",
      "Training --- Epoch: 113, loss: 55.90, acc: 0.0399\n",
      "Training --- Epoch: 114, loss: 55.89, acc: 0.0396\n",
      "Training --- Epoch: 115, loss: 56.29, acc: 0.0395\n",
      "Training --- Epoch: 116, loss: 56.35, acc: 0.0396\n",
      "Training --- Epoch: 117, loss: 56.57, acc: 0.0394\n",
      "Learning Rate --- Epoch: 117, lr: 1.0000e-04\n",
      "Training --- Epoch: 118, loss: 56.55, acc: 0.0394\n",
      "Training --- Epoch: 119, loss: 57.46, acc: 0.0384\n",
      "Training --- Epoch: 120, loss: 57.63, acc: 0.0389\n",
      "Training --- Epoch: 121, loss: 57.63, acc: 0.0383\n",
      "Training --- Epoch: 122, loss: 58.10, acc: 0.0381\n",
      "Training --- Epoch: 123, loss: 58.22, acc: 0.0380\n",
      "Training --- Epoch: 124, loss: 57.79, acc: 0.0384\n",
      "Training --- Epoch: 125, loss: 57.48, acc: 0.0386\n",
      "Training --- Epoch: 126, loss: 57.68, acc: 0.0382\n",
      "Training --- Epoch: 127, loss: 57.81, acc: 0.0380\n",
      "Training --- Epoch: 128, loss: 57.98, acc: 0.0383\n",
      "Training --- Epoch: 129, loss: 56.75, acc: 0.0384\n",
      "Training --- Epoch: 130, loss: 57.91, acc: 0.0382\n",
      "Training --- Epoch: 131, loss: 57.93, acc: 0.0382\n",
      "Training --- Epoch: 132, loss: 58.35, acc: 0.0383\n",
      "Training --- Epoch: 133, loss: 57.05, acc: 0.0384\n",
      "Training --- Epoch: 134, loss: 58.02, acc: 0.0383\n",
      "Training --- Epoch: 135, loss: 58.40, acc: 0.0379\n",
      "Training --- Epoch: 136, loss: 57.53, acc: 0.0381\n",
      "Training --- Epoch: 137, loss: 57.44, acc: 0.0383\n",
      "Training --- Epoch: 138, loss: 58.07, acc: 0.0383\n",
      "Training --- Epoch: 139, loss: 57.87, acc: 0.0382\n",
      "Training --- Epoch: 140, loss: 58.50, acc: 0.0377\n",
      "Training --- Epoch: 141, loss: 57.72, acc: 0.0383\n",
      "Training --- Epoch: 142, loss: 57.47, acc: 0.0383\n",
      "Training --- Epoch: 143, loss: 57.66, acc: 0.0384\n",
      "Training --- Epoch: 144, loss: 57.99, acc: 0.0377\n",
      "Training --- Epoch: 145, loss: 58.02, acc: 0.0382\n",
      "Training --- Epoch: 146, loss: 58.04, acc: 0.0379\n",
      "Training --- Epoch: 147, loss: 57.87, acc: 0.0380\n",
      "Training --- Epoch: 148, loss: 57.99, acc: 0.0382\n",
      "Training --- Epoch: 149, loss: 58.53, acc: 0.0382\n",
      "Training --- Epoch: 150, loss: 58.23, acc: 0.0382\n"
     ]
    }
   ],
   "source": [
    "fname = './lab1-3 v3.log'\n",
    "dictionary_acc, dictionary_loss, dictionary_lr = train_acc_loss_result(fname)"
   ]
  },
  {
   "cell_type": "code",
   "execution_count": 36,
   "metadata": {},
   "outputs": [
    {
     "data": {
      "image/png": "[encoded data removed]",
      "text/plain": [
       "<Figure size 1440x1440 with 2 Axes>"
      ]
     },
     "metadata": {
      "needs_background": "light"
     },
     "output_type": "display_data"
    }
   ],
   "source": [
    "show_train_acc(dictionary_acc, dictionary_loss, dictionary_lr)"
   ]
  }
 ],
 "metadata": {
  "anaconda-cloud": {},
  "kernelspec": {
   "display_name": "Python 3",
   "language": "python",
   "name": "python3"
  },
  "language_info": {
   "codemirror_mode": {
    "name": "ipython",
    "version": 3
   },
   "file_extension": ".py",
   "mimetype": "text/x-python",
   "name": "python",
   "nbconvert_exporter": "python",
   "pygments_lexer": "ipython3",
   "version": "3.7.0"
  }
 },
 "nbformat": 4,
 "nbformat_minor": 2
}
