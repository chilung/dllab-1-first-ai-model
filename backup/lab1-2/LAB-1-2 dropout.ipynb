{
 "cells": [
  {
   "cell_type": "code",
   "execution_count": 1,
   "metadata": {
    "collapsed": true
   },
   "outputs": [],
   "source": [
    "%matplotlib inline"
   ]
  },
  {
   "cell_type": "code",
   "execution_count": 2,
   "metadata": {
    "collapsed": false
   },
   "outputs": [],
   "source": [
    "import torch\n",
    "import torchvision\n",
    "import torchvision.transforms as transforms\n",
    "import torchvision.datasets as datasets"
   ]
  },
  {
   "cell_type": "code",
   "execution_count": 3,
   "metadata": {
    "collapsed": true
   },
   "outputs": [],
   "source": [
    "def get_mean_and_std(dataset):\n",
    "    '''Compute the mean and std value of dataset.'''\n",
    "    dataloader = torch.utils.data.DataLoader(dataset, batch_size=1, shuffle=False, num_workers=2)\n",
    "\n",
    "    mean = torch.zeros(3)\n",
    "    std = torch.zeros(3)\n",
    "    print('==> Computing mean and std..')\n",
    "    for inputs, targets in dataloader:\n",
    "        for i in range(3):\n",
    "            mean[i] += inputs[:, i, :, :].mean()\n",
    "            std[i] += inputs[:, i, :, :].std()\n",
    "    mean.div_(len(dataset))\n",
    "    std.div_(len(dataset))\n",
    "    return mean, std"
   ]
  },
  {
   "cell_type": "code",
   "execution_count": 4,
   "metadata": {
    "collapsed": false
   },
   "outputs": [
    {
     "name": "stdout",
     "output_type": "stream",
     "text": [
      "==> Check devices..\n",
      "Current device:  cuda\n",
      "Our selected device:  0\n",
      "1  GPUs is available\n"
     ]
    }
   ],
   "source": [
    "#To determine if your system supports CUDA\n",
    "print(\"==> Check devices..\")\n",
    "device = 'cuda' if torch.cuda.is_available() else 'cpu'\n",
    "print(\"Current device: \",device)\n",
    "\n",
    "#Also can print your current GPU id, and the number of GPUs you can use.\n",
    "print(\"Our selected device: \", torch.cuda.current_device())\n",
    "print(torch.cuda.device_count(), \" GPUs is available\")\n",
    "#device = 'cpu'"
   ]
  },
  {
   "cell_type": "code",
   "execution_count": 5,
   "metadata": {
    "collapsed": false
   },
   "outputs": [
    {
     "name": "stdout",
     "output_type": "stream",
     "text": [
      "==> Preparing dataset..\n"
     ]
    }
   ],
   "source": [
    "print('==> Preparing dataset..')"
   ]
  },
  {
   "cell_type": "code",
   "execution_count": 6,
   "metadata": {
    "collapsed": false
   },
   "outputs": [],
   "source": [
    "\"\"\"1.1\"\"\"\n",
    "#img_size, linear_size, fc1_out, fc2_out = 64, 13, 128, 84\n",
    "#img_size, linear_size, fc1_out, fc2_out = 64, 13, 128, 84\n",
    "#img_size, linear_size, fc1_out, fc2_out = 128, 29, 256, 84\n",
    "#img_size, linear_size, fc1_out, fc2_out = 256, 61, 256, 84\n",
    "img_size, linear_size, fc1_out, fc2_out = 384, 93, 128, 84\n",
    "#img_size, linear_size, fc1_out, fc2_out = 512, 125, 256, 84\n",
    "#img_size, linear_size, fc1_out, fc2_out = 512, 125, 512, 84\n",
    "#img_size, linear_size, fc1_out, fc2_out = 1024, 253, 256, 84\n",
    "\n",
    "calculate_mean_std = False\n",
    "\n",
    "if calculate_mean_std == True:\n",
    "    #The transform function for train data\n",
    "    transform_train = transforms.Compose([\n",
    "        transforms.Resize(img_size),\n",
    "        transforms.RandomCrop(img_size, padding=4),\n",
    "        transforms.ToTensor(),\n",
    "    ])\n",
    "\n",
    "    transform_val = transforms.Compose([\n",
    "        transforms.Resize(img_size),\n",
    "        transforms.RandomCrop(img_size, padding=4),\n",
    "        transforms.ToTensor(),\n",
    "    ])\n",
    "\n",
    "    #The transform function for test data\n",
    "    transform_test = transforms.Compose([\n",
    "        transforms.Resize(img_size),\n",
    "        transforms.RandomCrop(img_size, padding=4),\n",
    "        transforms.ToTensor(),\n",
    "    ])\n",
    "\n",
    "    #we will calculate mean and std\n",
    "    \n",
    "    trainset = torchvision.datasets.ImageFolder(root='./food/training', transform=transform_train)\n",
    "    valset = torchvision.datasets.ImageFolder(root='./food/validation', transform=transform_val)\n",
    "    testset = torchvision.datasets.ImageFolder(root='./food/evaluation', transform=transform_test)\n",
    "    \n",
    "    train_mean, train_std = get_mean_and_std(trainset)\n",
    "    print(train_mean, train_std)\n",
    "    val_mean, val_std = get_mean_and_std(valset)\n",
    "    print(val_mean, val_std)\n",
    "    test_mean, test_std = get_mean_and_std(testset)\n",
    "    print(test_mean, test_std)\n",
    "else:\n",
    "    train_mean, train_std = ([0.5548, 0.4476, 0.3364]), ([0.2338, 0.2414, 0.2384])\n",
    "    val_mean, val_std = ([0.5598, 0.4510, 0.3420]), ([0.2323, 0.2404, 0.2369])\n",
    "    test_mean, test_std = ([0.5609, 0.4524, 0.3431]), ([0.2332, 0.2415, 0.2389])\n",
    "    "
   ]
  },
  {
   "cell_type": "code",
   "execution_count": 7,
   "metadata": {
    "collapsed": false
   },
   "outputs": [],
   "source": [
    "\"\"\"1.1+\"\"\"\n",
    "#The transform function for train data\n",
    "transform_train = transforms.Compose([\n",
    "    transforms.Resize(img_size),\n",
    "    transforms.RandomCrop(img_size, padding=4),\n",
    "    transforms.RandomHorizontalFlip(),\n",
    "    transforms.ToTensor(),\n",
    "    transforms.Normalize(train_mean, train_std)\n",
    "])\n",
    "\n",
    "#The transform function for validation data\n",
    "transform_val = transforms.Compose([\n",
    "    transforms.Resize(img_size),\n",
    "    transforms.RandomCrop(img_size, padding=4),\n",
    "    transforms.RandomHorizontalFlip(),\n",
    "    transforms.ToTensor(),\n",
    "    transforms.Normalize(val_mean, val_std)\n",
    "])\n",
    "\n",
    "#The transform function for test data\n",
    "transform_test = transforms.Compose([\n",
    "    transforms.Resize(img_size),\n",
    "    transforms.RandomCrop(img_size, padding=4),\n",
    "    transforms.ToTensor(),\n",
    "    transforms.Normalize(test_mean, test_std)\n",
    "])"
   ]
  },
  {
   "cell_type": "code",
   "execution_count": 8,
   "metadata": {
    "collapsed": false
   },
   "outputs": [],
   "source": [
    "\"\"\"1.2+\"\"\"\n",
    "trainset = torchvision.datasets.ImageFolder(root='./food/training', transform=transform_train)\n",
    "valset = torchvision.datasets.ImageFolder(root='./food/validation', transform=transform_val)\n",
    "testset = torchvision.datasets.ImageFolder(root='./food/evaluation', transform=transform_test)"
   ]
  },
  {
   "cell_type": "code",
   "execution_count": 9,
   "metadata": {
    "collapsed": true
   },
   "outputs": [],
   "source": [
    "\"\"\"1.3\"\"\"\n",
    "\n",
    "#Create DataLoader to draw samples from the dataset\n",
    "#In this case, we define a DataLoader to random sample our dataset. \n",
    "#For single sampling, we take one batch of data. Each batch consists 4 images\n",
    "trainloader = torch.utils.data.DataLoader(trainset, batch_size=32,\n",
    "shuffle=True, num_workers=2)\n",
    "\n",
    "valloader = torch.utils.data.DataLoader(valset, batch_size=32,\n",
    "shuffle=True, num_workers=2)\n",
    "\n",
    "testloader = torch.utils.data.DataLoader(testset, batch_size=32,\n",
    "shuffle=False, num_workers=2)"
   ]
  },
  {
   "cell_type": "code",
   "execution_count": 10,
   "metadata": {
    "collapsed": true
   },
   "outputs": [],
   "source": [
    "classes = ('Bread', 'DairyProduct', 'Dessert', 'Egg', 'Friedfood',\n",
    "           'Meat', 'Noodles-Pasta', 'Rice', 'Seafood', 'Soup', 'Vegetable')"
   ]
  },
  {
   "cell_type": "code",
   "execution_count": 11,
   "metadata": {
    "collapsed": false
   },
   "outputs": [
    {
     "name": "stdout",
     "output_type": "stream",
     "text": [
      "==> Building model..\n"
     ]
    }
   ],
   "source": [
    "print('==> Building model..')"
   ]
  },
  {
   "cell_type": "code",
   "execution_count": 12,
   "metadata": {
    "collapsed": true
   },
   "outputs": [],
   "source": [
    "import torch.nn as nn"
   ]
  },
  {
   "cell_type": "code",
   "execution_count": 13,
   "metadata": {
    "collapsed": true
   },
   "outputs": [],
   "source": [
    "# define your own model\n",
    "class Net(nn.Module):\n",
    "\n",
    "    #define the layers\n",
    "    def __init__(self):\n",
    "        super(Net, self).__init__()\n",
    "        self.conv1 = nn.Conv2d(3, 6, 5)\n",
    "        self.pool = nn.MaxPool2d(2, 2)\n",
    "        self.conv2 = nn.Conv2d(6, 16, 5)\n",
    "        self.fc1 = nn.Linear(16 * linear_size * linear_size, fc1_out)\n",
    "        self.fc2 = nn.Linear(fc1_out, fc2_out)\n",
    "        self.fc3 = nn.Linear(fc2_out, 11)\n",
    "        self.relu = nn.ReLU()\n",
    "        self.dropout = nn.Dropout(0.5)\n",
    "        \n",
    "    #concatenate these layers\n",
    "    def forward(self, x):\n",
    "        x = self.pool(self.relu(self.conv1(x)))\n",
    "        x = self.dropout(x)\n",
    "        x = self.pool(self.relu(self.conv2(x)))\n",
    "        x = self.dropout(x)\n",
    "        x = x.view(-1, 16 * linear_size * linear_size)\n",
    "        x = self.relu(self.fc1(x))\n",
    "        x = self.relu(self.fc2(x))\n",
    "        x = self.fc3(x)\n",
    "        return x"
   ]
  },
  {
   "cell_type": "code",
   "execution_count": 14,
   "metadata": {
    "collapsed": false
   },
   "outputs": [
    {
     "name": "stdout",
     "output_type": "stream",
     "text": [
      "cuda\n"
     ]
    }
   ],
   "source": [
    "#declare a new model\n",
    "net = Net()\n",
    "# change all model tensor into cuda type\n",
    "# something like weight & bias are the tensor \n",
    "#net = net.to(device)\n",
    "print(device)\n",
    "if device == 'cuda':\n",
    "    net = net.cuda(0)\n",
    "else:\n",
    "    net = net.cpu()"
   ]
  },
  {
   "cell_type": "markdown",
   "metadata": {},
   "source": [
    "########################################################################\n",
    "\n",
    "# 3. Define a Loss function and optimize\n",
    "\n",
    "########################################################################"
   ]
  },
  {
   "cell_type": "code",
   "execution_count": 15,
   "metadata": {
    "collapsed": false
   },
   "outputs": [
    {
     "name": "stdout",
     "output_type": "stream",
     "text": [
      "==> Defining loss function and optimize..\n"
     ]
    }
   ],
   "source": [
    "print('==> Defining loss function and optimize..')"
   ]
  },
  {
   "cell_type": "code",
   "execution_count": 16,
   "metadata": {
    "collapsed": false
   },
   "outputs": [],
   "source": [
    "import torch.optim as optim\n",
    "\n",
    "#loss function\n",
    "criterion = nn.CrossEntropyLoss()\n",
    "#optimization algorithm\n",
    "optimizer = optim.SGD(net.parameters(), lr=0.001, momentum=0.9, weight_decay=0.001)"
   ]
  },
  {
   "cell_type": "markdown",
   "metadata": {},
   "source": [
    "########################################################################\n",
    "\n",
    "# 4. Train the network\n",
    "\n",
    "Before training the model, we need to analysis the tensor variable.\n",
    "\n",
    "\n",
    "Each variable have many attibute, like: .grad_fn, .require_grad, .data, .grad...etc. The \".grad_fn\" attribute of \"torch.Tensor\" is an entry point into the function that has create this \"torch.Tensor\" variables. Because of \".grad_fn\" flag, we can easily create a computing graph in the form of DAG(directed acyclic graph).\n",
    "\n",
    "And then, the \".require_grad\" attribute allows us to determine whether the backward propagation function is going to calculate the gradient of this \"torch.Tensor\" variable. If one variable has a false value of require_grad, it represent that you don't want to calculate this variable's gradient, and also its gradient will not be updated.\n",
    "\n",
    "########################################################################"
   ]
  },
  {
   "cell_type": "code",
   "execution_count": 17,
   "metadata": {
    "collapsed": false
   },
   "outputs": [
    {
     "name": "stdout",
     "output_type": "stream",
     "text": [
      "==> Training model..\n"
     ]
    }
   ],
   "source": [
    "print('==> Training model..')"
   ]
  },
  {
   "cell_type": "code",
   "execution_count": 18,
   "metadata": {
    "collapsed": false
   },
   "outputs": [
    {
     "name": "stdout",
     "output_type": "stream",
     "text": [
      "train\n",
      "val\n"
     ]
    }
   ],
   "source": [
    "for phase in ['train', 'val']:\n",
    "    if phase == 'train':\n",
    "        print(phase)    \n",
    "    else:\n",
    "        print(phase)"
   ]
  },
  {
   "cell_type": "code",
   "execution_count": 19,
   "metadata": {
    "collapsed": false,
    "scrolled": false
   },
   "outputs": [
    {
     "name": "stdout",
     "output_type": "stream",
     "text": [
      "0 Epoch train Loss: 0.0692 Acc: 0.2040\n",
      "0 Epoch val Loss: 0.0672 Acc: 0.2633\n",
      "1 Epoch train Loss: 0.0640 Acc: 0.2707\n",
      "1 Epoch val Loss: 0.0656 Acc: 0.2723\n",
      "2 Epoch train Loss: 0.0626 Acc: 0.2951\n",
      "2 Epoch val Loss: 0.0654 Acc: 0.2875\n",
      "3 Epoch train Loss: 0.0610 Acc: 0.3150\n",
      "3 Epoch val Loss: 0.0649 Acc: 0.2615\n",
      "4 Epoch train Loss: 0.0586 Acc: 0.3469\n",
      "4 Epoch val Loss: 0.0641 Acc: 0.2711\n",
      "5 Epoch train Loss: 0.0562 Acc: 0.3693\n",
      "5 Epoch val Loss: 0.0632 Acc: 0.2895\n",
      "6 Epoch train Loss: 0.0548 Acc: 0.3833\n",
      "6 Epoch val Loss: 0.0611 Acc: 0.3242\n",
      "7 Epoch train Loss: 0.0534 Acc: 0.4053\n",
      "7 Epoch val Loss: 0.0590 Acc: 0.3356\n",
      "8 Epoch train Loss: 0.0523 Acc: 0.4155\n",
      "8 Epoch val Loss: 0.0606 Acc: 0.3224\n",
      "9 Epoch train Loss: 0.0510 Acc: 0.4354\n",
      "9 Epoch val Loss: 0.0568 Acc: 0.3691\n",
      "10 Epoch train Loss: 0.0497 Acc: 0.4562\n",
      "10 Epoch val Loss: 0.0550 Acc: 0.4000\n",
      "11 Epoch train Loss: 0.0480 Acc: 0.4656\n",
      "11 Epoch val Loss: 0.0557 Acc: 0.3799\n",
      "12 Epoch train Loss: 0.0469 Acc: 0.4856\n",
      "12 Epoch val Loss: 0.0580 Acc: 0.3612\n",
      "13 Epoch train Loss: 0.0456 Acc: 0.5010\n",
      "13 Epoch val Loss: 0.0551 Acc: 0.3962\n",
      "14 Epoch train Loss: 0.0441 Acc: 0.5163\n",
      "14 Epoch val Loss: 0.0545 Acc: 0.3959\n",
      "15 Epoch train Loss: 0.0430 Acc: 0.5323\n",
      "15 Epoch val Loss: 0.0541 Acc: 0.4055\n",
      "16 Epoch train Loss: 0.0419 Acc: 0.5389\n",
      "16 Epoch val Loss: 0.0547 Acc: 0.4044\n",
      "17 Epoch train Loss: 0.0411 Acc: 0.5501\n",
      "17 Epoch val Loss: 0.0542 Acc: 0.4079\n",
      "18 Epoch train Loss: 0.0399 Acc: 0.5626\n",
      "18 Epoch val Loss: 0.0527 Acc: 0.4172\n",
      "19 Epoch train Loss: 0.0389 Acc: 0.5765\n",
      "19 Epoch val Loss: 0.0537 Acc: 0.4172\n",
      "20 Epoch train Loss: 0.0379 Acc: 0.5909\n",
      "20 Epoch val Loss: 0.0569 Acc: 0.3869\n",
      "21 Epoch train Loss: 0.0371 Acc: 0.5993\n",
      "21 Epoch val Loss: 0.0542 Acc: 0.4157\n",
      "22 Epoch train Loss: 0.0361 Acc: 0.6120\n",
      "22 Epoch val Loss: 0.0552 Acc: 0.4058\n",
      "23 Epoch train Loss: 0.0355 Acc: 0.6146\n",
      "23 Epoch val Loss: 0.0551 Acc: 0.3997\n",
      "24 Epoch train Loss: 0.0345 Acc: 0.6276\n",
      "24 Epoch val Loss: 0.0559 Acc: 0.4155\n",
      "25 Epoch train Loss: 0.0337 Acc: 0.6463\n",
      "25 Epoch val Loss: 0.0562 Acc: 0.4108\n",
      "26 Epoch train Loss: 0.0330 Acc: 0.6441\n",
      "26 Epoch val Loss: 0.0560 Acc: 0.4122\n",
      "27 Epoch train Loss: 0.0319 Acc: 0.6596\n",
      "27 Epoch val Loss: 0.0563 Acc: 0.4178\n",
      "28 Epoch train Loss: 0.0309 Acc: 0.6740\n",
      "28 Epoch val Loss: 0.0552 Acc: 0.4230\n",
      "29 Epoch train Loss: 0.0305 Acc: 0.6748\n",
      "29 Epoch val Loss: 0.0546 Acc: 0.4178\n",
      "30 Epoch train Loss: 0.0298 Acc: 0.6838\n",
      "30 Epoch val Loss: 0.0556 Acc: 0.4233\n",
      "31 Epoch train Loss: 0.0297 Acc: 0.6862\n",
      "31 Epoch val Loss: 0.0570 Acc: 0.4204\n",
      "32 Epoch train Loss: 0.0291 Acc: 0.6948\n",
      "32 Epoch val Loss: 0.0571 Acc: 0.4224\n",
      "33 Epoch train Loss: 0.0277 Acc: 0.7120\n",
      "33 Epoch val Loss: 0.0565 Acc: 0.4268\n",
      "34 Epoch train Loss: 0.0271 Acc: 0.7167\n",
      "34 Epoch val Loss: 0.0560 Acc: 0.4268\n",
      "35 Epoch train Loss: 0.0265 Acc: 0.7252\n",
      "35 Epoch val Loss: 0.0571 Acc: 0.4455\n",
      "36 Epoch train Loss: 0.0261 Acc: 0.7298\n",
      "36 Epoch val Loss: 0.0582 Acc: 0.4169\n",
      "37 Epoch train Loss: 0.0254 Acc: 0.7345\n",
      "37 Epoch val Loss: 0.0581 Acc: 0.4347\n",
      "38 Epoch train Loss: 0.0252 Acc: 0.7403\n",
      "38 Epoch val Loss: 0.0589 Acc: 0.4277\n",
      "39 Epoch train Loss: 0.0244 Acc: 0.7503\n",
      "39 Epoch val Loss: 0.0598 Acc: 0.4379\n",
      "40 Epoch train Loss: 0.0246 Acc: 0.7452\n",
      "40 Epoch val Loss: 0.0600 Acc: 0.4055\n",
      "41 Epoch train Loss: 0.0241 Acc: 0.7498\n",
      "41 Epoch val Loss: 0.0605 Acc: 0.4201\n",
      "42 Epoch train Loss: 0.0237 Acc: 0.7543\n",
      "42 Epoch val Loss: 0.0594 Acc: 0.4233\n",
      "43 Epoch train Loss: 0.0229 Acc: 0.7593\n",
      "43 Epoch val Loss: 0.0606 Acc: 0.4268\n",
      "44 Epoch train Loss: 0.0224 Acc: 0.7684\n",
      "44 Epoch val Loss: 0.0586 Acc: 0.4248\n",
      "45 Epoch train Loss: 0.0219 Acc: 0.7714\n",
      "45 Epoch val Loss: 0.0618 Acc: 0.4245\n",
      "46 Epoch train Loss: 0.0220 Acc: 0.7739\n",
      "46 Epoch val Loss: 0.0598 Acc: 0.4367\n",
      "47 Epoch train Loss: 0.0217 Acc: 0.7769\n",
      "47 Epoch val Loss: 0.0641 Acc: 0.4120\n",
      "48 Epoch train Loss: 0.0216 Acc: 0.7764\n",
      "48 Epoch val Loss: 0.0617 Acc: 0.4289\n",
      "49 Epoch train Loss: 0.0211 Acc: 0.7828\n",
      "49 Epoch val Loss: 0.0613 Acc: 0.4332\n",
      "50 Epoch train Loss: 0.0209 Acc: 0.7901\n",
      "50 Epoch val Loss: 0.0612 Acc: 0.4146\n",
      "51 Epoch train Loss: 0.0205 Acc: 0.7914\n",
      "51 Epoch val Loss: 0.0658 Acc: 0.4280\n",
      "52 Epoch train Loss: 0.0203 Acc: 0.7918\n",
      "52 Epoch val Loss: 0.0586 Acc: 0.4394\n",
      "53 Epoch train Loss: 0.0201 Acc: 0.7953\n",
      "53 Epoch val Loss: 0.0606 Acc: 0.4373\n",
      "54 Epoch train Loss: 0.0192 Acc: 0.7983\n",
      "54 Epoch val Loss: 0.0609 Acc: 0.4431\n",
      "55 Epoch train Loss: 0.0192 Acc: 0.8067\n",
      "55 Epoch val Loss: 0.0670 Acc: 0.4122\n",
      "56 Epoch train Loss: 0.0189 Acc: 0.8090\n",
      "56 Epoch val Loss: 0.0602 Acc: 0.4446\n",
      "57 Epoch train Loss: 0.0191 Acc: 0.8044\n",
      "57 Epoch val Loss: 0.0620 Acc: 0.4426\n",
      "58 Epoch train Loss: 0.0188 Acc: 0.8072\n",
      "58 Epoch val Loss: 0.0646 Acc: 0.4003\n",
      "59 Epoch train Loss: 0.0181 Acc: 0.8119\n",
      "59 Epoch val Loss: 0.0646 Acc: 0.4367\n",
      "60 Epoch train Loss: 0.0175 Acc: 0.8205\n",
      "60 Epoch val Loss: 0.0630 Acc: 0.4542\n",
      "61 Epoch train Loss: 0.0180 Acc: 0.8168\n",
      "61 Epoch val Loss: 0.0658 Acc: 0.4236\n",
      "62 Epoch train Loss: 0.0171 Acc: 0.8252\n",
      "62 Epoch val Loss: 0.0635 Acc: 0.4204\n",
      "63 Epoch train Loss: 0.0176 Acc: 0.8164\n",
      "63 Epoch val Loss: 0.0663 Acc: 0.4216\n",
      "64 Epoch train Loss: 0.0178 Acc: 0.8170\n",
      "64 Epoch val Loss: 0.0622 Acc: 0.4440\n",
      "65 Epoch train Loss: 0.0165 Acc: 0.8290\n",
      "65 Epoch val Loss: 0.0662 Acc: 0.4274\n",
      "66 Epoch train Loss: 0.0170 Acc: 0.8254\n",
      "66 Epoch val Loss: 0.0649 Acc: 0.4379\n",
      "67 Epoch train Loss: 0.0169 Acc: 0.8283\n",
      "67 Epoch val Loss: 0.0639 Acc: 0.4303\n",
      "68 Epoch train Loss: 0.0172 Acc: 0.8219\n",
      "68 Epoch val Loss: 0.0642 Acc: 0.4397\n",
      "69 Epoch train Loss: 0.0164 Acc: 0.8331\n",
      "69 Epoch val Loss: 0.0651 Acc: 0.4306\n",
      "70 Epoch train Loss: 0.0165 Acc: 0.8313\n",
      "70 Epoch val Loss: 0.0643 Acc: 0.4213\n",
      "71 Epoch train Loss: 0.0164 Acc: 0.8315\n",
      "71 Epoch val Loss: 0.0623 Acc: 0.4379\n",
      "72 Epoch train Loss: 0.0156 Acc: 0.8410\n",
      "72 Epoch val Loss: 0.0676 Acc: 0.4335\n",
      "73 Epoch train Loss: 0.0157 Acc: 0.8350\n",
      "73 Epoch val Loss: 0.0671 Acc: 0.4131\n",
      "74 Epoch train Loss: 0.0157 Acc: 0.8386\n",
      "74 Epoch val Loss: 0.0646 Acc: 0.4402\n",
      "75 Epoch train Loss: 0.0157 Acc: 0.8404\n",
      "75 Epoch val Loss: 0.0684 Acc: 0.4169\n",
      "76 Epoch train Loss: 0.0146 Acc: 0.8460\n",
      "76 Epoch val Loss: 0.0629 Acc: 0.4394\n",
      "77 Epoch train Loss: 0.0148 Acc: 0.8445\n",
      "77 Epoch val Loss: 0.0686 Acc: 0.4359\n",
      "78 Epoch train Loss: 0.0149 Acc: 0.8439\n",
      "78 Epoch val Loss: 0.0673 Acc: 0.4321\n",
      "79 Epoch train Loss: 0.0148 Acc: 0.8471\n",
      "79 Epoch val Loss: 0.0688 Acc: 0.4236\n",
      "80 Epoch train Loss: 0.0147 Acc: 0.8473\n",
      "80 Epoch val Loss: 0.0681 Acc: 0.4242\n",
      "81 Epoch train Loss: 0.0145 Acc: 0.8483\n",
      "81 Epoch val Loss: 0.0677 Acc: 0.4155\n",
      "82 Epoch train Loss: 0.0140 Acc: 0.8565\n",
      "82 Epoch val Loss: 0.0641 Acc: 0.4245\n",
      "83 Epoch train Loss: 0.0146 Acc: 0.8486\n",
      "83 Epoch val Loss: 0.0722 Acc: 0.4114\n",
      "84 Epoch train Loss: 0.0145 Acc: 0.8520\n",
      "84 Epoch val Loss: 0.0685 Acc: 0.4187\n",
      "85 Epoch train Loss: 0.0142 Acc: 0.8518\n",
      "85 Epoch val Loss: 0.0678 Acc: 0.4239\n",
      "86 Epoch train Loss: 0.0135 Acc: 0.8592\n",
      "86 Epoch val Loss: 0.0738 Acc: 0.4169\n",
      "87 Epoch train Loss: 0.0135 Acc: 0.8595\n",
      "87 Epoch val Loss: 0.0701 Acc: 0.4312\n",
      "88 Epoch train Loss: 0.0140 Acc: 0.8560\n",
      "88 Epoch val Loss: 0.0727 Acc: 0.4134\n",
      "89 Epoch train Loss: 0.0136 Acc: 0.8647\n",
      "89 Epoch val Loss: 0.0729 Acc: 0.4224\n",
      "90 Epoch train Loss: 0.0130 Acc: 0.8615\n",
      "90 Epoch val Loss: 0.0708 Acc: 0.4271\n",
      "91 Epoch train Loss: 0.0130 Acc: 0.8708\n",
      "91 Epoch val Loss: 0.0756 Acc: 0.4195\n",
      "92 Epoch train Loss: 0.0132 Acc: 0.8666\n",
      "92 Epoch val Loss: 0.0742 Acc: 0.4216\n",
      "93 Epoch train Loss: 0.0129 Acc: 0.8697\n",
      "93 Epoch val Loss: 0.0699 Acc: 0.4271\n",
      "94 Epoch train Loss: 0.0128 Acc: 0.8661\n",
      "94 Epoch val Loss: 0.0696 Acc: 0.4289\n",
      "95 Epoch train Loss: 0.0127 Acc: 0.8709\n",
      "95 Epoch val Loss: 0.0693 Acc: 0.4353\n",
      "96 Epoch train Loss: 0.0126 Acc: 0.8745\n",
      "96 Epoch val Loss: 0.0771 Acc: 0.4254\n",
      "97 Epoch train Loss: 0.0129 Acc: 0.8664\n",
      "97 Epoch val Loss: 0.0687 Acc: 0.4318\n",
      "98 Epoch train Loss: 0.0119 Acc: 0.8779\n",
      "98 Epoch val Loss: 0.0702 Acc: 0.4327\n",
      "99 Epoch train Loss: 0.0124 Acc: 0.8760\n",
      "99 Epoch val Loss: 0.0721 Acc: 0.4332\n",
      "Finished Training\n"
     ]
    }
   ],
   "source": [
    "#Set the model in training mode\n",
    "#because some function like: dropout, batchnorm...etc, will have \n",
    "#different behaviors in training/evaluation mode\n",
    "#[document]: https://pytorch.org/docs/stable/nn.html#torch.nn.Module.train\n",
    "import copy\n",
    "\n",
    "best_model = net\n",
    "best_acc = 0.0\n",
    "\n",
    "net.train()\n",
    "lr_scheduler = torch.optim.lr_scheduler.StepLR\n",
    "#scheduler = torch.optim.lr_scheduler.StepLR(optimizer, step_size = 1, gamma=0.5)\n",
    "\n",
    "for epoch in range(100):  # loop over the dataset multiple times\n",
    "    #scheduler.step()\n",
    "    \n",
    "    for phase in ['train', 'val']:\n",
    "        if phase == 'train':\n",
    "            net.train(True)  # Set model to training mode\n",
    "            dset_loaders = trainloader\n",
    "        else:\n",
    "            net.train(False)  # Set model to evaluate mode\n",
    "            dset_loaders = valloader\n",
    "            \n",
    "        running_loss = 0.0\n",
    "        correct = 0\n",
    "        \n",
    "        for data in dset_loaders:\n",
    "        \n",
    "            (inputs, labels) = data\n",
    "            \n",
    "            #change the type into cuda tensor \n",
    "            if device == 'cuda':\n",
    "                inputs = inputs.cuda(0)\n",
    "                labels = labels.cuda(0)\n",
    "            else:\n",
    "                inputs = inputs.cpu()\n",
    "                labels = labels.cpu()\n",
    "\n",
    "            #print(labels)\n",
    "            #print(inputs)\n",
    "        \n",
    "            # zero the parameter gradients\n",
    "            optimizer.zero_grad()\n",
    "\n",
    "            # forward + backward + optimize\n",
    "            outputs = net(inputs)\n",
    "            # select the class with highest probability\n",
    "            _, pred = outputs.max(1)\n",
    "            # if the model predicts the same results as the true\n",
    "            # label, then the correct counter will plus 1\n",
    "            correct += pred.eq(labels).sum().item()\n",
    "        \n",
    "            loss = criterion(outputs, labels)\n",
    "        \n",
    "            if phase == 'train':\n",
    "                loss.backward()\n",
    "                optimizer.step()\n",
    "\n",
    "            # print statistics\n",
    "            running_loss += loss.item()\n",
    "\n",
    "        if phase == 'train':\n",
    "            epoch_loss = running_loss / len(trainset)\n",
    "            epoch_acc = correct / len(trainset)\n",
    "        else:\n",
    "            epoch_loss = running_loss / len(valset)\n",
    "            epoch_acc = correct / len(valset)\n",
    "\n",
    "        print('{:d} Epoch {} Loss: {:.4f} Acc: {:.4f}'.format(epoch, phase, epoch_loss, epoch_acc))\n",
    "\n",
    "        # deep copy the model\n",
    "        if phase == 'val' and epoch_acc > best_acc:\n",
    "            best_acc = epoch_acc\n",
    "            best_model = copy.deepcopy(net)\n",
    "print('Finished Training')\n",
    "\n",
    "net = best_model"
   ]
  },
  {
   "cell_type": "code",
   "execution_count": 20,
   "metadata": {
    "collapsed": false
   },
   "outputs": [
    {
     "name": "stderr",
     "output_type": "stream",
     "text": [
      "/home/ccma/anaconda3/lib/python3.5/site-packages/matplotlib/figure.py:98: MatplotlibDeprecationWarning: \n",
      "Adding an axes using the same arguments as a previous axes currently reuses the earlier instance.  In a future version, a new instance will always be created and returned.  Meanwhile, this warning can be suppressed, and the future behavior ensured, by passing a unique label to each axes instance.\n",
      "  \"Adding an axes using the same arguments as a previous axes \"\n"
     ]
    },
    {
     "data": {
      "image/png": "[encoded data removed]",
      "text/plain": [
       "<Figure size 432x288 with 2 Axes>"
      ]
     },
     "metadata": {},
     "output_type": "display_data"
    },
    {
     "data": {
      "image/png": "[encoded data removed]",
      "text/plain": [
       "<Figure size 432x288 with 3 Axes>"
      ]
     },
     "metadata": {},
     "output_type": "display_data"
    }
   ],
   "source": [
    "import numpy as np\n",
    "import matplotlib.mlab as mlab\n",
    "import matplotlib.pyplot as plt\n",
    "\n",
    "def show_conv_weight_distribution():\n",
    "    for i in range(1, 3):\n",
    "        ax = plt.subplot(1, 2, i)\n",
    "        #ax.set_ylim([0, 20000])\n",
    "        plt.grid(False)\n",
    "\n",
    "    plt.subplot(1, 2, 1)\n",
    "    x = net.conv1.weight.view(-1,1).cpu().detach().numpy()\n",
    "    n, bins, patches = plt.hist(x, facecolor='green', alpha=0.75)\n",
    "    plt.xlabel('conv1')\n",
    "    plt.ylabel('Probability')\n",
    "\n",
    "    ax = plt.subplot(1, 2, 2)\n",
    "    x = net.conv2.weight.view(-1,1).cpu().detach().numpy()\n",
    "    n, bins, patches = plt.hist(x, facecolor='green', alpha=0.75)\n",
    "    plt.xlabel('conv2')\n",
    "\n",
    "    plt.show()\n",
    "\n",
    "def show_fc_weight_distribution():\n",
    "    for i in range(1, 4):\n",
    "        ax = plt.subplot(1, 3, i)\n",
    "        #ax.set_ylim([0, 20000])\n",
    "        plt.grid(False)\n",
    "\n",
    "    ax = plt.subplot(1, 3, 1)\n",
    "    x = net.fc1.weight.view(-1,1).cpu().detach().numpy()\n",
    "    n, bins, patches = plt.hist(x, facecolor='green', alpha=0.75)\n",
    "    plt.xlabel('fc1')\n",
    "    plt.ylabel('Probability')\n",
    "\n",
    "    ax = plt.subplot(1, 3, 2)\n",
    "    x = net.fc2.weight.view(-1,1).cpu().detach().numpy()\n",
    "    n, bins, patches = plt.hist(x, facecolor='green', alpha=0.75)\n",
    "    plt.xlabel('fc2')\n",
    "\n",
    "    ax = plt.subplot(1, 3, 3)\n",
    "    x = net.fc3.weight.view(-1,1).cpu().detach().numpy()\n",
    "    n, bins, patches = plt.hist(x, facecolor='green', alpha=0.75)\n",
    "    plt.xlabel('fc3')\n",
    "\n",
    "    plt.show()\n",
    "\n",
    "show_conv_weight_distribution()\n",
    "show_fc_weight_distribution()"
   ]
  },
  {
   "cell_type": "code",
   "execution_count": 21,
   "metadata": {
    "collapsed": false
   },
   "outputs": [
    {
     "name": "stderr",
     "output_type": "stream",
     "text": [
      "/home/ccma/anaconda3/lib/python3.5/site-packages/matplotlib/figure.py:98: MatplotlibDeprecationWarning: \n",
      "Adding an axes using the same arguments as a previous axes currently reuses the earlier instance.  In a future version, a new instance will always be created and returned.  Meanwhile, this warning can be suppressed, and the future behavior ensured, by passing a unique label to each axes instance.\n",
      "  \"Adding an axes using the same arguments as a previous axes \"\n"
     ]
    },
    {
     "data": {
      "image/png": "[encoded data removed]",
      "text/plain": [
       "<Figure size 432x288 with 2 Axes>"
      ]
     },
     "metadata": {},
     "output_type": "display_data"
    },
    {
     "data": {
      "image/png": "[encoded data removed]",
      "text/plain": [
       "<Figure size 432x288 with 3 Axes>"
      ]
     },
     "metadata": {},
     "output_type": "display_data"
    }
   ],
   "source": [
    "import numpy as np\n",
    "import matplotlib.mlab as mlab\n",
    "import matplotlib.pyplot as plt\n",
    "\n",
    "def show_conv_bias_distribution():\n",
    "    for i in range(1, 3):\n",
    "        ax = plt.subplot(1, 2, i)\n",
    "        #ax.set_ylim([0, 20000])\n",
    "        plt.grid(False)\n",
    "\n",
    "    plt.subplot(1, 2, 1)\n",
    "    x = net.conv1.bias.view(-1,1).cpu().detach().numpy()\n",
    "    n, bins, patches = plt.hist(x, facecolor='green', alpha=0.75)\n",
    "    plt.xlabel('conv1')\n",
    "    plt.ylabel('Probability')\n",
    "\n",
    "    ax = plt.subplot(1, 2, 2)\n",
    "    x = net.conv2.bias.view(-1,1).cpu().detach().numpy()\n",
    "    n, bins, patches = plt.hist(x, facecolor='green', alpha=0.75)\n",
    "    plt.xlabel('conv2')\n",
    "\n",
    "    plt.show()\n",
    "\n",
    "def show_fc_bias_distribution():\n",
    "    for i in range(1, 4):\n",
    "        ax = plt.subplot(1, 3, i)\n",
    "        #ax.set_ylim([0, 20000])\n",
    "        plt.grid(False)\n",
    "\n",
    "    ax = plt.subplot(1, 3, 1)\n",
    "    x = net.fc1.bias.view(-1,1).cpu().detach().numpy()\n",
    "    n, bins, patches = plt.hist(x, facecolor='green', alpha=0.75)\n",
    "    plt.xlabel('fc1')\n",
    "    plt.ylabel('Probability')\n",
    "\n",
    "    ax = plt.subplot(1, 3, 2)\n",
    "    x = net.fc2.bias.view(-1,1).cpu().detach().numpy()\n",
    "    n, bins, patches = plt.hist(x, facecolor='green', alpha=0.75)\n",
    "    plt.xlabel('fc2')\n",
    "\n",
    "    ax = plt.subplot(1, 3, 3)\n",
    "    x = net.fc3.bias.view(-1,1).cpu().detach().numpy()\n",
    "    n, bins, patches = plt.hist(x, facecolor='green', alpha=0.75)\n",
    "    plt.xlabel('fc3')\n",
    "\n",
    "    plt.show()\n",
    "\n",
    "show_conv_bias_distribution()\n",
    "show_fc_bias_distribution()"
   ]
  },
  {
   "cell_type": "code",
   "execution_count": 22,
   "metadata": {
    "collapsed": false
   },
   "outputs": [
    {
     "name": "stdout",
     "output_type": "stream",
     "text": [
      "==> Saving model..\n",
      "Finished Saving\n"
     ]
    },
    {
     "name": "stderr",
     "output_type": "stream",
     "text": [
      "/home/ccma/anaconda3/lib/python3.5/site-packages/torch/serialization.py:241: UserWarning: Couldn't retrieve source code for container of type Net. It won't be checked for correctness upon loading.\n",
      "  \"type \" + obj.__name__ + \". It won't be checked \"\n"
     ]
    }
   ],
   "source": [
    "#After training , save the model first\n",
    "#You can saves only the model parameters or entire model\n",
    "#Some difference between the two is that entire model \n",
    "#not only include parameters but also record hwo each \n",
    "#layer is connected(forward method).\n",
    "#[document]: https://pytorch.org/docs/master/notes/serialization.html\n",
    "\n",
    "print('==> Saving model..')\n",
    "\n",
    "#only save model parameters\n",
    "torch.save(net.state_dict(), './checkpoint.t7')\n",
    "#you also can store some log information\n",
    "state = {\n",
    "    'net': net.state_dict(),\n",
    "    'acc': 100.*correct/len(trainset),\n",
    "    'epoch': 75\n",
    "}\n",
    "torch.save(state, './checkpoint.t7')\n",
    "\n",
    "#save entire model\n",
    "torch.save(net, './model.pt')\n",
    "\n",
    "print('Finished Saving')"
   ]
  },
  {
   "cell_type": "markdown",
   "metadata": {},
   "source": [
    "########################################################################\n",
    "\n",
    "# 5. Test the network on the test data\n",
    "\n",
    "########################################################################"
   ]
  },
  {
   "cell_type": "markdown",
   "metadata": {
    "collapsed": false
   },
   "source": [
    "#Before testing, we can load the saved model\n",
    "#Depend on how you save your model, need \n",
    "#different way to use it\n",
    "\n",
    "print('==> Loading model..')\n",
    "\n",
    "#If you just save the model parameters, you\n",
    "#need to redefine the model architecture, and\n",
    "#load the parameters into your model\n",
    "net = Net()\n",
    "checkpoint = torch.load('./checkpoint.t7')\n",
    "net.load_state_dict(checkpoint['net'])\n",
    "\n",
    "#If you save the entire model\n",
    "net = torch.load('./model.pt')\n",
    "\n",
    "print('Finished Loading')"
   ]
  },
  {
   "cell_type": "code",
   "execution_count": 23,
   "metadata": {
    "collapsed": false
   },
   "outputs": [
    {
     "name": "stdout",
     "output_type": "stream",
     "text": [
      "==> Testing model..\n"
     ]
    },
    {
     "data": {
      "text/plain": [
       "Net(\n",
       "  (conv1): Conv2d(3, 6, kernel_size=(5, 5), stride=(1, 1))\n",
       "  (pool): MaxPool2d(kernel_size=2, stride=2, padding=0, dilation=1, ceil_mode=False)\n",
       "  (conv2): Conv2d(6, 16, kernel_size=(5, 5), stride=(1, 1))\n",
       "  (fc1): Linear(in_features=138384, out_features=128, bias=True)\n",
       "  (fc2): Linear(in_features=128, out_features=84, bias=True)\n",
       "  (fc3): Linear(in_features=84, out_features=11, bias=True)\n",
       "  (relu): ReLU()\n",
       "  (dropout): Dropout(p=0.5)\n",
       ")"
      ]
     },
     "execution_count": 23,
     "metadata": {},
     "output_type": "execute_result"
    }
   ],
   "source": [
    "print('==> Testing model..')\n",
    "\n",
    "#Set the model in evaluation mode\n",
    "#[document]: https://pytorch.org/docs/stable/nn.html#torch.nn.Module.eval \n",
    "net.eval()\n"
   ]
  },
  {
   "cell_type": "code",
   "execution_count": 24,
   "metadata": {
    "collapsed": false
   },
   "outputs": [
    {
     "name": "stdout",
     "output_type": "stream",
     "text": [
      "Accuracy of the network on the 3347 test images: 47.71%, and loss is: 0.059\n",
      "Accuracy of Bread : 17 %\n",
      "Accuracy of DairyProduct : 24 %\n",
      "Accuracy of Dessert : 77 %\n",
      "Accuracy of   Egg : 34 %\n",
      "Accuracy of Friedfood : 40 %\n",
      "Accuracy of  Meat : 41 %\n",
      "Accuracy of Noodles-Pasta : 64 %\n",
      "Accuracy of  Rice : 49 %\n",
      "Accuracy of Seafood : 38 %\n",
      "Accuracy of  Soup : 48 %\n",
      "Accuracy of Vegetable : 70 %\n"
     ]
    }
   ],
   "source": [
    "######################\n",
    "#######LAB 1-1########\n",
    "\"\"\"\n",
    "To Do Here\n",
    "\n",
    "        You should complete the testing step in LAB 1-1\n",
    "You should show the total accuracy & loss [10000 cifar10 test cases]\n",
    "  You also need to tell us, how about the accuracy for each class\n",
    " \n",
    "    For example: Total accuracy is: 60.0% and loss is: 0.02  \n",
    "                 For each class in cifar 10:\n",
    "                 Accuracy of plane : 58.0%\n",
    "                 Accuracy of   car : 22.4%\n",
    "                            .\n",
    "                            .\n",
    "                            .\n",
    "\"\"\"\n",
    "######################\n",
    "correct = 0\n",
    "total = 0\n",
    "running_loss = 0.0\n",
    "\n",
    "class_correct = list(0. for i in range(11))\n",
    "class_total = list(0. for i in range(11))\n",
    "\n",
    "with torch.no_grad():\n",
    "    for data in testloader:\n",
    "        images, labels = data\n",
    "\n",
    "        if device == 'cuda':\n",
    "            images = images.cuda(0)\n",
    "            labels = labels.cuda(0)\n",
    "        else:\n",
    "            images = images.cpu()\n",
    "            labels = labels.cpu()\n",
    "        \n",
    "        outputs = net(images)\n",
    "        _, predicted = torch.max(outputs, 1)\n",
    "        \n",
    "        total += labels.size(0)\n",
    "        correct += (predicted == labels).sum().item()\n",
    "\n",
    "        loss = criterion(outputs, labels)\n",
    "        running_loss += loss.item()\n",
    "\n",
    "        c = (predicted == labels).squeeze()\n",
    "        #print(predicted)\n",
    "        #print(labels.size(0))\n",
    "        #print(c)\n",
    "        for i in range(labels.size(0)):\n",
    "            label = labels[i]\n",
    "            class_correct[label] += c[i].item()\n",
    "            class_total[label] += 1\n",
    "\n",
    "print('Accuracy of the network on the %d test images: %.2f%%, and loss is: %.3f'\n",
    "      % (total, 100 * correct / total, running_loss / total))\n",
    "\n",
    "for i in range(11):\n",
    "    print('Accuracy of %5s : %2d %%' % (\n",
    "        classes[i], 100 * class_correct[i] / class_total[i]))"
   ]
  },
  {
   "cell_type": "code",
   "execution_count": null,
   "metadata": {
    "collapsed": true
   },
   "outputs": [],
   "source": []
  },
  {
   "cell_type": "code",
   "execution_count": null,
   "metadata": {
    "collapsed": true
   },
   "outputs": [],
   "source": []
  },
  {
   "cell_type": "code",
   "execution_count": null,
   "metadata": {
    "collapsed": true
   },
   "outputs": [],
   "source": []
  },
  {
   "cell_type": "code",
   "execution_count": null,
   "metadata": {
    "collapsed": true
   },
   "outputs": [],
   "source": []
  }
 ],
 "metadata": {
  "anaconda-cloud": {},
  "kernelspec": {
   "display_name": "Python [default]",
   "language": "python",
   "name": "python3"
  },
  "language_info": {
   "codemirror_mode": {
    "name": "ipython",
    "version": 3
   },
   "file_extension": ".py",
   "mimetype": "text/x-python",
   "name": "python",
   "nbconvert_exporter": "python",
   "pygments_lexer": "ipython3",
   "version": "3.5.2"
  }
 },
 "nbformat": 4,
 "nbformat_minor": 2
}
