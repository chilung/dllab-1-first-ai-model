{
 "cells": [
  {
   "cell_type": "code",
   "execution_count": 1,
   "metadata": {
    "collapsed": true
   },
   "outputs": [],
   "source": [
    "%matplotlib inline"
   ]
  },
  {
   "cell_type": "code",
   "execution_count": 2,
   "metadata": {
    "collapsed": false
   },
   "outputs": [],
   "source": [
    "import torch\n",
    "import torchvision\n",
    "import torchvision.transforms as transforms\n",
    "import torchvision.datasets as datasets"
   ]
  },
  {
   "cell_type": "code",
   "execution_count": 3,
   "metadata": {
    "collapsed": true
   },
   "outputs": [],
   "source": [
    "def get_mean_and_std(dataset):\n",
    "    '''Compute the mean and std value of dataset.'''\n",
    "    dataloader = torch.utils.data.DataLoader(dataset, batch_size=1, shuffle=False, num_workers=2)\n",
    "\n",
    "    mean = torch.zeros(3)\n",
    "    std = torch.zeros(3)\n",
    "    print('==> Computing mean and std..')\n",
    "    for inputs, targets in dataloader:\n",
    "        for i in range(3):\n",
    "            mean[i] += inputs[:, i, :, :].mean()\n",
    "            std[i] += inputs[:, i, :, :].std()\n",
    "    mean.div_(len(dataset))\n",
    "    std.div_(len(dataset))\n",
    "    return mean, std"
   ]
  },
  {
   "cell_type": "code",
   "execution_count": 4,
   "metadata": {
    "collapsed": false
   },
   "outputs": [
    {
     "name": "stdout",
     "output_type": "stream",
     "text": [
      "==> Check devices..\n",
      "Current device:  cuda\n",
      "Our selected device:  0\n",
      "1  GPUs is available\n"
     ]
    }
   ],
   "source": [
    "#To determine if your system supports CUDA\n",
    "print(\"==> Check devices..\")\n",
    "device = 'cuda' if torch.cuda.is_available() else 'cpu'\n",
    "print(\"Current device: \",device)\n",
    "\n",
    "#Also can print your current GPU id, and the number of GPUs you can use.\n",
    "print(\"Our selected device: \", torch.cuda.current_device())\n",
    "print(torch.cuda.device_count(), \" GPUs is available\")\n",
    "#device = 'cpu'"
   ]
  },
  {
   "cell_type": "code",
   "execution_count": 5,
   "metadata": {
    "collapsed": false
   },
   "outputs": [
    {
     "name": "stdout",
     "output_type": "stream",
     "text": [
      "==> Preparing dataset..\n"
     ]
    }
   ],
   "source": [
    "print('==> Preparing dataset..')"
   ]
  },
  {
   "cell_type": "code",
   "execution_count": 6,
   "metadata": {
    "collapsed": false
   },
   "outputs": [
    {
     "name": "stdout",
     "output_type": "stream",
     "text": [
      "==> Computing mean and std..\n",
      "tensor([0.5287, 0.4255, 0.3181]) tensor([0.2498, 0.2446, 0.2321])\n",
      "==> Computing mean and std..\n",
      "tensor([0.5337, 0.4291, 0.3238]) tensor([0.2499, 0.2450, 0.2327])\n"
     ]
    }
   ],
   "source": [
    "\"\"\"1.1\"\"\"\n",
    "img_size, linear_size, fc1_out, fc2_out = 64, 13, 128, 84\n",
    "#img_size, linear_size, fc1_out, fc2_out = 128, 29, 256, 84\n",
    "#img_size, linear_size, fc1_out, fc2_out = 256, 61, 256, 84\n",
    "#img_size, linear_size, fc1_out, fc2_out = 384, 93, 128, 84\n",
    "#img_size, linear_size, fc1_out, fc2_out = 512, 125, 256, 84\n",
    "#img_size, linear_size, fc1_out, fc2_out = 512, 125, 512, 84\n",
    "#img_size, linear_size, fc1_out, fc2_out = 1024, 253, 256, 84\n",
    "\n",
    "calculate_mean_std = True\n",
    "\n",
    "if calculate_mean_std == True:\n",
    "    #The transform function for train data\n",
    "    transform_train = transforms.Compose([\n",
    "        transforms.Resize(img_size),\n",
    "        transforms.RandomCrop(img_size, padding=4),\n",
    "        transforms.ToTensor(),\n",
    "    ])\n",
    "\n",
    "    #The transform function for test data\n",
    "    transform_test = transforms.Compose([\n",
    "        transforms.Resize(img_size),\n",
    "        transforms.RandomCrop(img_size, padding=4),\n",
    "        transforms.ToTensor(),\n",
    "    ])\n",
    "\n",
    "    #we will calculate mean and std\n",
    "    \n",
    "    trainset = torchvision.datasets.ImageFolder(root='./food/training', transform=transform_train)\n",
    "    testset = torchvision.datasets.ImageFolder(root='./food/evaluation', transform=transform_test)\n",
    "    \n",
    "    train_mean, train_std = get_mean_and_std(trainset)\n",
    "    print(train_mean, train_std)\n",
    "    test_mean, test_std = get_mean_and_std(testset)\n",
    "    print(test_mean, test_std)\n",
    "else:\n",
    "    train_mean, train_std = ([0.5551, 0.4478, 0.3366]), ([0.2337, 0.2414, 0.2386])\n",
    "    test_mean, test_std = ([0.5607, 0.4518, 0.3425]), ([0.2333, 0.2415, 0.2385])\n",
    "    "
   ]
  },
  {
   "cell_type": "code",
   "execution_count": 7,
   "metadata": {
    "collapsed": false
   },
   "outputs": [],
   "source": [
    "\"\"\"1.1+\"\"\"\n",
    "#The transform function for train data\n",
    "transform_train = transforms.Compose([\n",
    "    transforms.Resize(img_size),\n",
    "    transforms.RandomCrop(img_size, padding=4),\n",
    "    transforms.RandomHorizontalFlip(),\n",
    "    transforms.ToTensor(),\n",
    "    transforms.Normalize(train_mean, train_std)\n",
    "])\n",
    "\n",
    "#The transform function for test data\n",
    "transform_test = transforms.Compose([\n",
    "    transforms.Resize(img_size),\n",
    "    transforms.RandomCrop(img_size, padding=4),\n",
    "    transforms.ToTensor(),\n",
    "    transforms.Normalize(test_mean, test_std)\n",
    "])"
   ]
  },
  {
   "cell_type": "code",
   "execution_count": 8,
   "metadata": {
    "collapsed": false
   },
   "outputs": [],
   "source": [
    "\"\"\"1.2+\"\"\"\n",
    "trainset = torchvision.datasets.ImageFolder(root='./food/training', transform=transform_train)\n",
    "testset = torchvision.datasets.ImageFolder(root='./food/evaluation', transform=transform_test)"
   ]
  },
  {
   "cell_type": "code",
   "execution_count": 9,
   "metadata": {
    "collapsed": true
   },
   "outputs": [],
   "source": [
    "\"\"\"1.3\"\"\"\n",
    "\n",
    "#Create DataLoader to draw samples from the dataset\n",
    "#In this case, we define a DataLoader to random sample our dataset. \n",
    "#For single sampling, we take one batch of data. Each batch consists 4 images\n",
    "trainloader = torch.utils.data.DataLoader(trainset, batch_size=32,\n",
    "shuffle=True, num_workers=2)\n",
    "\n",
    "testloader = torch.utils.data.DataLoader(testset, batch_size=32,\n",
    "shuffle=False, num_workers=2)"
   ]
  },
  {
   "cell_type": "code",
   "execution_count": 10,
   "metadata": {
    "collapsed": true
   },
   "outputs": [],
   "source": [
    "classes = ('Bread', 'DairyProduct', 'Dessert', 'Egg', 'Friedfood',\n",
    "           'Meat', 'Noodles-Pasta', 'Rice', 'Seafood', 'Soup', 'Vegetable')"
   ]
  },
  {
   "cell_type": "code",
   "execution_count": 11,
   "metadata": {
    "collapsed": false
   },
   "outputs": [
    {
     "name": "stdout",
     "output_type": "stream",
     "text": [
      "==> Building model..\n"
     ]
    }
   ],
   "source": [
    "print('==> Building model..')"
   ]
  },
  {
   "cell_type": "code",
   "execution_count": 12,
   "metadata": {
    "collapsed": true
   },
   "outputs": [],
   "source": [
    "import torch.nn as nn"
   ]
  },
  {
   "cell_type": "code",
   "execution_count": 13,
   "metadata": {
    "collapsed": true
   },
   "outputs": [],
   "source": [
    "# define your own model\n",
    "class Net(nn.Module):\n",
    "\n",
    "    #define the layers\n",
    "    def __init__(self):\n",
    "        super(Net, self).__init__()\n",
    "        self.conv1 = nn.Conv2d(3, 6, 5)\n",
    "        self.pool = nn.MaxPool2d(2, 2)\n",
    "        self.conv2 = nn.Conv2d(6, 16, 5)\n",
    "        self.fc1 = nn.Linear(16 * linear_size * linear_size, fc1_out)\n",
    "        self.fc2 = nn.Linear(fc1_out, fc2_out)\n",
    "        self.fc3 = nn.Linear(fc2_out, 11)\n",
    "        self.relu = nn.ReLU()\n",
    "        \n",
    "    #concatenate these layers\n",
    "    def forward(self, x):\n",
    "        x = self.pool(self.relu(self.conv1(x)))\n",
    "        x = self.pool(self.relu(self.conv2(x)))\n",
    "        x = x.view(-1, 16 * linear_size * linear_size)\n",
    "        x = self.relu(self.fc1(x))\n",
    "        x = self.relu(self.fc2(x))\n",
    "        x = self.fc3(x)\n",
    "        return x"
   ]
  },
  {
   "cell_type": "code",
   "execution_count": 14,
   "metadata": {
    "collapsed": false
   },
   "outputs": [
    {
     "name": "stdout",
     "output_type": "stream",
     "text": [
      "cuda\n"
     ]
    }
   ],
   "source": [
    "#declare a new model\n",
    "net = Net()\n",
    "# change all model tensor into cuda type\n",
    "# something like weight & bias are the tensor \n",
    "#net = net.to(device)\n",
    "print(device)\n",
    "if device == 'cuda':\n",
    "    net = net.cuda(0)\n",
    "else:\n",
    "    net = net.cpu()"
   ]
  },
  {
   "cell_type": "markdown",
   "metadata": {},
   "source": [
    "########################################################################\n",
    "\n",
    "# 3. Define a Loss function and optimize\n",
    "\n",
    "########################################################################"
   ]
  },
  {
   "cell_type": "code",
   "execution_count": 15,
   "metadata": {
    "collapsed": false
   },
   "outputs": [
    {
     "name": "stdout",
     "output_type": "stream",
     "text": [
      "==> Defining loss function and optimize..\n"
     ]
    }
   ],
   "source": [
    "print('==> Defining loss function and optimize..')"
   ]
  },
  {
   "cell_type": "code",
   "execution_count": 16,
   "metadata": {
    "collapsed": true
   },
   "outputs": [],
   "source": [
    "import torch.optim as optim\n",
    "\n",
    "#loss function\n",
    "criterion = nn.CrossEntropyLoss()\n",
    "#optimization algorithm\n",
    "optimizer = optim.SGD(net.parameters(), lr=0.001, momentum=0.9, weight_decay=1e-5)"
   ]
  },
  {
   "cell_type": "markdown",
   "metadata": {},
   "source": [
    "########################################################################\n",
    "\n",
    "# 4. Train the network\n",
    "\n",
    "Before training the model, we need to analysis the tensor variable.\n",
    "\n",
    "\n",
    "Each variable have many attibute, like: .grad_fn, .require_grad, .data, .grad...etc. The \".grad_fn\" attribute of \"torch.Tensor\" is an entry point into the function that has create this \"torch.Tensor\" variables. Because of \".grad_fn\" flag, we can easily create a computing graph in the form of DAG(directed acyclic graph).\n",
    "\n",
    "And then, the \".require_grad\" attribute allows us to determine whether the backward propagation function is going to calculate the gradient of this \"torch.Tensor\" variable. If one variable has a false value of require_grad, it represent that you don't want to calculate this variable's gradient, and also its gradient will not be updated.\n",
    "\n",
    "########################################################################"
   ]
  },
  {
   "cell_type": "code",
   "execution_count": 17,
   "metadata": {
    "collapsed": false
   },
   "outputs": [
    {
     "name": "stdout",
     "output_type": "stream",
     "text": [
      "==> Training model..\n"
     ]
    }
   ],
   "source": [
    "print('==> Training model..')"
   ]
  },
  {
   "cell_type": "code",
   "execution_count": 18,
   "metadata": {
    "collapsed": false,
    "scrolled": true
   },
   "outputs": [
    {
     "name": "stdout",
     "output_type": "stream",
     "text": [
      "1 epoch, training accuracy: 15.13%, loss = 0.0727\n",
      "2 epoch, training accuracy: 21.12%, loss = 0.0688\n",
      "3 epoch, training accuracy: 23.50%, loss = 0.0665\n",
      "4 epoch, training accuracy: 26.30%, loss = 0.0649\n",
      "5 epoch, training accuracy: 27.91%, loss = 0.0636\n",
      "6 epoch, training accuracy: 29.63%, loss = 0.0623\n",
      "7 epoch, training accuracy: 31.70%, loss = 0.0610\n",
      "8 epoch, training accuracy: 32.58%, loss = 0.0599\n",
      "9 epoch, training accuracy: 34.49%, loss = 0.0588\n",
      "10 epoch, training accuracy: 35.63%, loss = 0.0578\n",
      "11 epoch, training accuracy: 36.42%, loss = 0.0570\n",
      "12 epoch, training accuracy: 37.59%, loss = 0.0559\n",
      "13 epoch, training accuracy: 38.03%, loss = 0.0556\n",
      "14 epoch, training accuracy: 39.28%, loss = 0.0546\n",
      "15 epoch, training accuracy: 40.28%, loss = 0.0538\n",
      "16 epoch, training accuracy: 41.34%, loss = 0.0534\n",
      "17 epoch, training accuracy: 41.94%, loss = 0.0526\n",
      "18 epoch, training accuracy: 42.72%, loss = 0.0518\n",
      "19 epoch, training accuracy: 42.79%, loss = 0.0514\n",
      "20 epoch, training accuracy: 43.50%, loss = 0.0508\n",
      "21 epoch, training accuracy: 44.49%, loss = 0.0500\n",
      "22 epoch, training accuracy: 44.84%, loss = 0.0497\n",
      "23 epoch, training accuracy: 45.50%, loss = 0.0493\n",
      "24 epoch, training accuracy: 46.03%, loss = 0.0486\n",
      "25 epoch, training accuracy: 47.08%, loss = 0.0478\n",
      "26 epoch, training accuracy: 47.52%, loss = 0.0475\n",
      "27 epoch, training accuracy: 47.91%, loss = 0.0469\n",
      "28 epoch, training accuracy: 48.51%, loss = 0.0467\n",
      "29 epoch, training accuracy: 49.30%, loss = 0.0461\n",
      "30 epoch, training accuracy: 49.30%, loss = 0.0457\n",
      "31 epoch, training accuracy: 49.91%, loss = 0.0452\n",
      "32 epoch, training accuracy: 50.41%, loss = 0.0452\n",
      "33 epoch, training accuracy: 50.76%, loss = 0.0444\n",
      "34 epoch, training accuracy: 51.78%, loss = 0.0439\n",
      "35 epoch, training accuracy: 52.16%, loss = 0.0435\n",
      "36 epoch, training accuracy: 52.08%, loss = 0.0434\n",
      "37 epoch, training accuracy: 53.04%, loss = 0.0428\n",
      "38 epoch, training accuracy: 53.87%, loss = 0.0421\n",
      "39 epoch, training accuracy: 53.49%, loss = 0.0422\n",
      "40 epoch, training accuracy: 54.96%, loss = 0.0408\n",
      "41 epoch, training accuracy: 55.42%, loss = 0.0407\n",
      "42 epoch, training accuracy: 54.76%, loss = 0.0410\n",
      "43 epoch, training accuracy: 55.17%, loss = 0.0405\n",
      "44 epoch, training accuracy: 56.01%, loss = 0.0403\n",
      "45 epoch, training accuracy: 55.90%, loss = 0.0401\n",
      "46 epoch, training accuracy: 56.94%, loss = 0.0392\n",
      "47 epoch, training accuracy: 57.16%, loss = 0.0390\n",
      "48 epoch, training accuracy: 57.18%, loss = 0.0390\n",
      "49 epoch, training accuracy: 58.29%, loss = 0.0381\n",
      "50 epoch, training accuracy: 58.13%, loss = 0.0384\n",
      "51 epoch, training accuracy: 58.08%, loss = 0.0377\n",
      "52 epoch, training accuracy: 58.94%, loss = 0.0374\n",
      "53 epoch, training accuracy: 59.06%, loss = 0.0373\n",
      "54 epoch, training accuracy: 60.13%, loss = 0.0366\n",
      "55 epoch, training accuracy: 60.02%, loss = 0.0363\n",
      "56 epoch, training accuracy: 60.35%, loss = 0.0360\n",
      "57 epoch, training accuracy: 61.74%, loss = 0.0355\n",
      "58 epoch, training accuracy: 60.66%, loss = 0.0356\n",
      "59 epoch, training accuracy: 60.94%, loss = 0.0353\n",
      "60 epoch, training accuracy: 61.91%, loss = 0.0350\n",
      "Finished Training\n"
     ]
    }
   ],
   "source": [
    "#Set the model in training mode\n",
    "#because some function like: dropout, batchnorm...etc, will have \n",
    "#different behaviors in training/evaluation mode\n",
    "#[document]: https://pytorch.org/docs/stable/nn.html#torch.nn.Module.train\n",
    "net.train()\n",
    "#scheduler = torch.optim.lr_scheduler.StepLR(optimizer, step_size = 1, gamma=0.5)\n",
    "\n",
    "for epoch in range(60):  # loop over the dataset multiple times\n",
    "    #scheduler.step()\n",
    "    running_loss = 0.0\n",
    "    correct = 0\n",
    "    for i, (inputs, labels) in enumerate(trainloader, 0):\n",
    "        \n",
    "        #change the type into cuda tensor \n",
    "        if device == 'cuda':\n",
    "            inputs = inputs.cuda(0)\n",
    "            labels = labels.cuda(0)\n",
    "        else:\n",
    "            inputs = inputs.cpu()\n",
    "            labels = labels.cpu()\n",
    "\n",
    "        #print(labels)\n",
    "        #print(inputs)\n",
    "        \n",
    "        # zero the parameter gradients\n",
    "        optimizer.zero_grad()\n",
    "\n",
    "        # forward + backward + optimize\n",
    "        outputs = net(inputs)\n",
    "        # select the class with highest probability\n",
    "        _, pred = outputs.max(1)\n",
    "        # if the model predicts the same results as the true\n",
    "        # label, then the correct counter will plus 1\n",
    "        correct += pred.eq(labels).sum().item()\n",
    "        \n",
    "        loss = criterion(outputs, labels)\n",
    "        \n",
    "        loss.backward()\n",
    "        optimizer.step()\n",
    "\n",
    "        # print statistics\n",
    "        running_loss += loss.item()\n",
    "        \n",
    "    print('%d epoch, training accuracy: %.2f%%, loss = %.4f' %\n",
    "          (epoch+1, 100.*correct/len(trainset), running_loss/len(trainset)))\n",
    "print('Finished Training')"
   ]
  },
  {
   "cell_type": "code",
   "execution_count": 19,
   "metadata": {
    "collapsed": false
   },
   "outputs": [
    {
     "data": {
      "image/png": "[encoded data removed]",
      "text/plain": [
       "<matplotlib.figure.Figure at 0x7f0c360a3080>"
      ]
     },
     "metadata": {},
     "output_type": "display_data"
    },
    {
     "data": {
      "image/png": "[encoded data removed]",
      "text/plain": [
       "<matplotlib.figure.Figure at 0x7f0c360a3cc0>"
      ]
     },
     "metadata": {},
     "output_type": "display_data"
    }
   ],
   "source": [
    "import numpy as np\n",
    "import matplotlib.mlab as mlab\n",
    "import matplotlib.pyplot as plt\n",
    "\n",
    "def show_conv_weight_distribution():\n",
    "    for i in range(1, 3):\n",
    "        ax = plt.subplot(1, 2, i)\n",
    "        #ax.set_ylim([0, 20000])\n",
    "        plt.grid(False)\n",
    "\n",
    "    plt.subplot(1, 2, 1)\n",
    "    x = net.conv1.weight.view(-1,1).cpu().detach().numpy()\n",
    "    n, bins, patches = plt.hist(x, facecolor='green', alpha=0.75)\n",
    "    plt.xlabel('conv1')\n",
    "    plt.ylabel('Probability')\n",
    "\n",
    "    ax = plt.subplot(1, 2, 2)\n",
    "    x = net.conv2.weight.view(-1,1).cpu().detach().numpy()\n",
    "    n, bins, patches = plt.hist(x, facecolor='green', alpha=0.75)\n",
    "    plt.xlabel('conv2')\n",
    "\n",
    "    plt.show()\n",
    "\n",
    "def show_fc_weight_distribution():\n",
    "    for i in range(1, 4):\n",
    "        ax = plt.subplot(1, 3, i)\n",
    "        #ax.set_ylim([0, 20000])\n",
    "        plt.grid(False)\n",
    "\n",
    "    ax = plt.subplot(1, 3, 1)\n",
    "    x = net.fc1.weight.view(-1,1).cpu().detach().numpy()\n",
    "    n, bins, patches = plt.hist(x, facecolor='green', alpha=0.75)\n",
    "    plt.xlabel('fc1')\n",
    "    plt.ylabel('Probability')\n",
    "\n",
    "    ax = plt.subplot(1, 3, 2)\n",
    "    x = net.fc2.weight.view(-1,1).cpu().detach().numpy()\n",
    "    n, bins, patches = plt.hist(x, facecolor='green', alpha=0.75)\n",
    "    plt.xlabel('fc2')\n",
    "\n",
    "    ax = plt.subplot(1, 3, 3)\n",
    "    x = net.fc3.weight.view(-1,1).cpu().detach().numpy()\n",
    "    n, bins, patches = plt.hist(x, facecolor='green', alpha=0.75)\n",
    "    plt.xlabel('fc3')\n",
    "\n",
    "    plt.show()\n",
    "\n",
    "show_conv_weight_distribution()\n",
    "show_fc_weight_distribution()"
   ]
  },
  {
   "cell_type": "code",
   "execution_count": 20,
   "metadata": {
    "collapsed": false
   },
   "outputs": [
    {
     "data": {
      "image/png": "[encoded data removed]",
      "text/plain": [
       "<matplotlib.figure.Figure at 0x7f0c2cb5c390>"
      ]
     },
     "metadata": {},
     "output_type": "display_data"
    },
    {
     "data": {
      "image/png": "[encoded data removed]",
      "text/plain": [
       "<matplotlib.figure.Figure at 0x7f0c2cb5c160>"
      ]
     },
     "metadata": {},
     "output_type": "display_data"
    }
   ],
   "source": [
    "import numpy as np\n",
    "import matplotlib.mlab as mlab\n",
    "import matplotlib.pyplot as plt\n",
    "\n",
    "def show_conv_bias_distribution():\n",
    "    for i in range(1, 3):\n",
    "        ax = plt.subplot(1, 2, i)\n",
    "        #ax.set_ylim([0, 20000])\n",
    "        plt.grid(False)\n",
    "\n",
    "    plt.subplot(1, 2, 1)\n",
    "    x = net.conv1.bias.view(-1,1).cpu().detach().numpy()\n",
    "    n, bins, patches = plt.hist(x, facecolor='green', alpha=0.75)\n",
    "    plt.xlabel('conv1')\n",
    "    plt.ylabel('Probability')\n",
    "\n",
    "    ax = plt.subplot(1, 2, 2)\n",
    "    x = net.conv2.bias.view(-1,1).cpu().detach().numpy()\n",
    "    n, bins, patches = plt.hist(x, facecolor='green', alpha=0.75)\n",
    "    plt.xlabel('conv2')\n",
    "\n",
    "    plt.show()\n",
    "\n",
    "def show_fc_bias_distribution():\n",
    "    for i in range(1, 4):\n",
    "        ax = plt.subplot(1, 3, i)\n",
    "        #ax.set_ylim([0, 20000])\n",
    "        plt.grid(False)\n",
    "\n",
    "    ax = plt.subplot(1, 3, 1)\n",
    "    x = net.fc1.bias.view(-1,1).cpu().detach().numpy()\n",
    "    n, bins, patches = plt.hist(x, facecolor='green', alpha=0.75)\n",
    "    plt.xlabel('fc1')\n",
    "    plt.ylabel('Probability')\n",
    "\n",
    "    ax = plt.subplot(1, 3, 2)\n",
    "    x = net.fc2.bias.view(-1,1).cpu().detach().numpy()\n",
    "    n, bins, patches = plt.hist(x, facecolor='green', alpha=0.75)\n",
    "    plt.xlabel('fc2')\n",
    "\n",
    "    ax = plt.subplot(1, 3, 3)\n",
    "    x = net.fc3.bias.view(-1,1).cpu().detach().numpy()\n",
    "    n, bins, patches = plt.hist(x, facecolor='green', alpha=0.75)\n",
    "    plt.xlabel('fc3')\n",
    "\n",
    "    plt.show()\n",
    "\n",
    "show_conv_bias_distribution()\n",
    "show_fc_bias_distribution()"
   ]
  },
  {
   "cell_type": "code",
   "execution_count": 21,
   "metadata": {
    "collapsed": false
   },
   "outputs": [
    {
     "name": "stdout",
     "output_type": "stream",
     "text": [
      "==> Saving model..\n",
      "Finished Saving\n"
     ]
    },
    {
     "name": "stderr",
     "output_type": "stream",
     "text": [
      "/home/ccma/anaconda3/lib/python3.5/site-packages/torch/serialization.py:241: UserWarning: Couldn't retrieve source code for container of type Net. It won't be checked for correctness upon loading.\n",
      "  \"type \" + obj.__name__ + \". It won't be checked \"\n"
     ]
    }
   ],
   "source": [
    "#After training , save the model first\n",
    "#You can saves only the model parameters or entire model\n",
    "#Some difference between the two is that entire model \n",
    "#not only include parameters but also record hwo each \n",
    "#layer is connected(forward method).\n",
    "#[document]: https://pytorch.org/docs/master/notes/serialization.html\n",
    "\n",
    "print('==> Saving model..')\n",
    "\n",
    "#only save model parameters\n",
    "torch.save(net.state_dict(), './checkpoint.t7')\n",
    "#you also can store some log information\n",
    "state = {\n",
    "    'net': net.state_dict(),\n",
    "    'acc': 100.*correct/len(trainset),\n",
    "    'epoch': 75\n",
    "}\n",
    "torch.save(state, './checkpoint.t7')\n",
    "\n",
    "#save entire model\n",
    "torch.save(net, './model.pt')\n",
    "\n",
    "print('Finished Saving')"
   ]
  },
  {
   "cell_type": "markdown",
   "metadata": {},
   "source": [
    "########################################################################\n",
    "\n",
    "# 5. Test the network on the test data\n",
    "\n",
    "########################################################################"
   ]
  },
  {
   "cell_type": "markdown",
   "metadata": {
    "collapsed": false
   },
   "source": [
    "#Before testing, we can load the saved model\n",
    "#Depend on how you save your model, need \n",
    "#different way to use it\n",
    "\n",
    "print('==> Loading model..')\n",
    "\n",
    "#If you just save the model parameters, you\n",
    "#need to redefine the model architecture, and\n",
    "#load the parameters into your model\n",
    "net = Net()\n",
    "checkpoint = torch.load('./checkpoint.t7')\n",
    "net.load_state_dict(checkpoint['net'])\n",
    "\n",
    "#If you save the entire model\n",
    "net = torch.load('./model.pt')\n",
    "\n",
    "print('Finished Loading')"
   ]
  },
  {
   "cell_type": "code",
   "execution_count": 22,
   "metadata": {
    "collapsed": false
   },
   "outputs": [
    {
     "name": "stdout",
     "output_type": "stream",
     "text": [
      "==> Testing model..\n"
     ]
    },
    {
     "data": {
      "text/plain": [
       "Net(\n",
       "  (conv1): Conv2d(3, 6, kernel_size=(5, 5), stride=(1, 1))\n",
       "  (pool): MaxPool2d(kernel_size=2, stride=2, padding=0, dilation=1, ceil_mode=False)\n",
       "  (conv2): Conv2d(6, 16, kernel_size=(5, 5), stride=(1, 1))\n",
       "  (fc1): Linear(in_features=2704, out_features=128, bias=True)\n",
       "  (fc2): Linear(in_features=128, out_features=84, bias=True)\n",
       "  (fc3): Linear(in_features=84, out_features=11, bias=True)\n",
       "  (relu): ReLU()\n",
       ")"
      ]
     },
     "execution_count": 22,
     "metadata": {},
     "output_type": "execute_result"
    }
   ],
   "source": [
    "print('==> Testing model..')\n",
    "\n",
    "#Set the model in evaluation mode\n",
    "#[document]: https://pytorch.org/docs/stable/nn.html#torch.nn.Module.eval \n",
    "net.eval()\n"
   ]
  },
  {
   "cell_type": "code",
   "execution_count": 23,
   "metadata": {
    "collapsed": false
   },
   "outputs": [
    {
     "name": "stdout",
     "output_type": "stream",
     "text": [
      "Accuracy of the network on the 3347 test images: 49.66%, and loss is: 0.048\n",
      "Accuracy of Bread : 24 %\n",
      "Accuracy of DairyProduct : 21 %\n",
      "Accuracy of Dessert : 42 %\n",
      "Accuracy of   Egg : 42 %\n",
      "Accuracy of Friedfood : 49 %\n",
      "Accuracy of  Meat : 57 %\n",
      "Accuracy of Noodles-Pasta : 46 %\n",
      "Accuracy of  Rice : 15 %\n",
      "Accuracy of Seafood : 58 %\n",
      "Accuracy of  Soup : 70 %\n",
      "Accuracy of Vegetable : 79 %\n"
     ]
    }
   ],
   "source": [
    "######################\n",
    "#######LAB 1-1########\n",
    "\"\"\"\n",
    "To Do Here\n",
    "\n",
    "        You should complete the testing step in LAB 1-1\n",
    "You should show the total accuracy & loss [10000 cifar10 test cases]\n",
    "  You also need to tell us, how about the accuracy for each class\n",
    " \n",
    "    For example: Total accuracy is: 60.0% and loss is: 0.02  \n",
    "                 For each class in cifar 10:\n",
    "                 Accuracy of plane : 58.0%\n",
    "                 Accuracy of   car : 22.4%\n",
    "                            .\n",
    "                            .\n",
    "                            .\n",
    "\"\"\"\n",
    "######################\n",
    "correct = 0\n",
    "total = 0\n",
    "running_loss = 0.0\n",
    "\n",
    "class_correct = list(0. for i in range(11))\n",
    "class_total = list(0. for i in range(11))\n",
    "\n",
    "with torch.no_grad():\n",
    "    for data in testloader:\n",
    "        images, labels = data\n",
    "\n",
    "        if device == 'cuda':\n",
    "            images = images.cuda(0)\n",
    "            labels = labels.cuda(0)\n",
    "        else:\n",
    "            images = images.cpu()\n",
    "            labels = labels.cpu()\n",
    "        \n",
    "        outputs = net(images)\n",
    "        _, predicted = torch.max(outputs, 1)\n",
    "        \n",
    "        total += labels.size(0)\n",
    "        correct += (predicted == labels).sum().item()\n",
    "\n",
    "        loss = criterion(outputs, labels)\n",
    "        running_loss += loss.item()\n",
    "\n",
    "        c = (predicted == labels).squeeze()\n",
    "        #print(predicted)\n",
    "        #print(labels.size(0))\n",
    "        #print(c)\n",
    "        for i in range(labels.size(0)):\n",
    "            label = labels[i]\n",
    "            class_correct[label] += c[i].item()\n",
    "            class_total[label] += 1\n",
    "\n",
    "print('Accuracy of the network on the %d test images: %.2f%%, and loss is: %.3f'\n",
    "      % (total, 100 * correct / total, running_loss / total))\n",
    "\n",
    "for i in range(11):\n",
    "    print('Accuracy of %5s : %2d %%' % (\n",
    "        classes[i], 100 * class_correct[i] / class_total[i]))"
   ]
  },
  {
   "cell_type": "code",
   "execution_count": null,
   "metadata": {
    "collapsed": true
   },
   "outputs": [],
   "source": []
  },
  {
   "cell_type": "code",
   "execution_count": null,
   "metadata": {
    "collapsed": true
   },
   "outputs": [],
   "source": []
  },
  {
   "cell_type": "code",
   "execution_count": null,
   "metadata": {
    "collapsed": true
   },
   "outputs": [],
   "source": []
  },
  {
   "cell_type": "code",
   "execution_count": null,
   "metadata": {
    "collapsed": true
   },
   "outputs": [],
   "source": []
  }
 ],
 "metadata": {
  "anaconda-cloud": {},
  "kernelspec": {
   "display_name": "Python [default]",
   "language": "python",
   "name": "python3"
  },
  "language_info": {
   "codemirror_mode": {
    "name": "ipython",
    "version": 3
   },
   "file_extension": ".py",
   "mimetype": "text/x-python",
   "name": "python",
   "nbconvert_exporter": "python",
   "pygments_lexer": "ipython3",
   "version": "3.5.2"
  }
 },
 "nbformat": 4,
 "nbformat_minor": 2
}
