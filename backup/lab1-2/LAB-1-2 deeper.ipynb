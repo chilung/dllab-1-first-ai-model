{
 "cells": [
  {
   "cell_type": "code",
   "execution_count": 1,
   "metadata": {
    "collapsed": true
   },
   "outputs": [],
   "source": [
    "%matplotlib inline"
   ]
  },
  {
   "cell_type": "code",
   "execution_count": 2,
   "metadata": {
    "collapsed": false
   },
   "outputs": [],
   "source": [
    "import torch\n",
    "import torchvision\n",
    "import torchvision.transforms as transforms\n",
    "import torchvision.datasets as datasets"
   ]
  },
  {
   "cell_type": "code",
   "execution_count": 3,
   "metadata": {
    "collapsed": true
   },
   "outputs": [],
   "source": [
    "def get_mean_and_std(dataset):\n",
    "    '''Compute the mean and std value of dataset.'''\n",
    "    dataloader = torch.utils.data.DataLoader(dataset, batch_size=1, shuffle=False, num_workers=2)\n",
    "\n",
    "    mean = torch.zeros(3)\n",
    "    std = torch.zeros(3)\n",
    "    print('==> Computing mean and std..')\n",
    "    for inputs, targets in dataloader:\n",
    "        for i in range(3):\n",
    "            mean[i] += inputs[:, i, :, :].mean()\n",
    "            std[i] += inputs[:, i, :, :].std()\n",
    "    mean.div_(len(dataset))\n",
    "    std.div_(len(dataset))\n",
    "    return mean, std"
   ]
  },
  {
   "cell_type": "code",
   "execution_count": 4,
   "metadata": {
    "collapsed": false
   },
   "outputs": [
    {
     "name": "stdout",
     "output_type": "stream",
     "text": [
      "==> Check devices..\n",
      "Current device:  cuda\n",
      "Our selected device:  0\n",
      "1  GPUs is available\n"
     ]
    }
   ],
   "source": [
    "#To determine if your system supports CUDA\n",
    "print(\"==> Check devices..\")\n",
    "device = 'cuda' if torch.cuda.is_available() else 'cpu'\n",
    "print(\"Current device: \",device)\n",
    "\n",
    "#Also can print your current GPU id, and the number of GPUs you can use.\n",
    "print(\"Our selected device: \", torch.cuda.current_device())\n",
    "print(torch.cuda.device_count(), \" GPUs is available\")\n",
    "#device = 'cpu'"
   ]
  },
  {
   "cell_type": "code",
   "execution_count": 5,
   "metadata": {
    "collapsed": false
   },
   "outputs": [
    {
     "name": "stdout",
     "output_type": "stream",
     "text": [
      "==> Preparing dataset..\n"
     ]
    }
   ],
   "source": [
    "print('==> Preparing dataset..')"
   ]
  },
  {
   "cell_type": "code",
   "execution_count": 6,
   "metadata": {
    "collapsed": false
   },
   "outputs": [
    {
     "name": "stdout",
     "output_type": "stream",
     "text": [
      "==> Computing mean and std..\n",
      "tensor([0.5548, 0.4476, 0.3364]) tensor([0.2336, 0.2413, 0.2384])\n",
      "==> Computing mean and std..\n",
      "tensor([0.5592, 0.4504, 0.3416]) tensor([0.2326, 0.2405, 0.2369])\n",
      "==> Computing mean and std..\n",
      "tensor([0.5609, 0.4524, 0.3431]) tensor([0.2334, 0.2417, 0.2391])\n"
     ]
    }
   ],
   "source": [
    "\"\"\"1.1\"\"\"\n",
    "#img_size, linear_size, fc1_out, fc2_out = 64, 13, 128, 84\n",
    "#img_size, linear_size, fc1_out, fc2_out = 64, 13, 128, 84\n",
    "#img_size, linear_size, fc1_out, fc2_out = 128, 29, 256, 84\n",
    "#img_size, linear_size, fc1_out, fc2_out = 256, 61, 256, 84\n",
    "#img_size, linear_size, fc1_out, fc2_out = 384, 93, 128, 84\n",
    "img_size, linear_size, fc1_out, fc2_out = 384, 21, 128, 84\n",
    "#img_size, linear_size, fc1_out, fc2_out = 512, 125, 256, 84\n",
    "#img_size, linear_size, fc1_out, fc2_out = 512, 125, 512, 84\n",
    "#img_size, linear_size, fc1_out, fc2_out = 1024, 253, 256, 84\n",
    "\n",
    "calculate_mean_std = True\n",
    "\n",
    "if calculate_mean_std == True:\n",
    "    #The transform function for train data\n",
    "    transform_train = transforms.Compose([\n",
    "        transforms.Resize(img_size),\n",
    "        transforms.RandomCrop(img_size, padding=4),\n",
    "        transforms.ToTensor(),\n",
    "    ])\n",
    "\n",
    "    transform_val = transforms.Compose([\n",
    "        transforms.Resize(img_size),\n",
    "        transforms.RandomCrop(img_size, padding=4),\n",
    "        transforms.ToTensor(),\n",
    "    ])\n",
    "\n",
    "    #The transform function for test data\n",
    "    transform_test = transforms.Compose([\n",
    "        transforms.Resize(img_size),\n",
    "        transforms.RandomCrop(img_size, padding=4),\n",
    "        transforms.ToTensor(),\n",
    "    ])\n",
    "\n",
    "    #we will calculate mean and std\n",
    "    \n",
    "    trainset = torchvision.datasets.ImageFolder(root='./food/training', transform=transform_train)\n",
    "    valset = torchvision.datasets.ImageFolder(root='./food/validation', transform=transform_val)\n",
    "    testset = torchvision.datasets.ImageFolder(root='./food/evaluation', transform=transform_test)\n",
    "    \n",
    "    train_mean, train_std = get_mean_and_std(trainset)\n",
    "    print(train_mean, train_std)\n",
    "    val_mean, val_std = get_mean_and_std(valset)\n",
    "    print(val_mean, val_std)\n",
    "    test_mean, test_std = get_mean_and_std(testset)\n",
    "    print(test_mean, test_std)\n",
    "else:\n",
    "    train_mean, train_std = ([0.5551, 0.4478, 0.3366]), ([0.2337, 0.2414, 0.2386])\n",
    "    val_mean, val_std = ([0.5292, 0.4256, 0.3189]), ([0.2494, 0.2442, 0.2316])\n",
    "    test_mean, test_std = ([0.5607, 0.4518, 0.3425]), ([0.2333, 0.2415, 0.2385])\n",
    "    "
   ]
  },
  {
   "cell_type": "code",
   "execution_count": 7,
   "metadata": {
    "collapsed": false
   },
   "outputs": [],
   "source": [
    "\"\"\"1.1+\"\"\"\n",
    "#The transform function for train data\n",
    "transform_train = transforms.Compose([\n",
    "    transforms.Resize(img_size),\n",
    "    transforms.RandomCrop(img_size, padding=4),\n",
    "    transforms.RandomHorizontalFlip(),\n",
    "    transforms.ToTensor(),\n",
    "    transforms.Normalize(train_mean, train_std)\n",
    "])\n",
    "\n",
    "#The transform function for validation data\n",
    "transform_val = transforms.Compose([\n",
    "    transforms.Resize(img_size),\n",
    "    transforms.RandomCrop(img_size, padding=4),\n",
    "    transforms.RandomHorizontalFlip(),\n",
    "    transforms.ToTensor(),\n",
    "    transforms.Normalize(val_mean, val_std)\n",
    "])\n",
    "\n",
    "#The transform function for test data\n",
    "transform_test = transforms.Compose([\n",
    "    transforms.Resize(img_size),\n",
    "    transforms.RandomCrop(img_size, padding=4),\n",
    "    transforms.ToTensor(),\n",
    "    transforms.Normalize(test_mean, test_std)\n",
    "])"
   ]
  },
  {
   "cell_type": "code",
   "execution_count": 8,
   "metadata": {
    "collapsed": false
   },
   "outputs": [],
   "source": [
    "\"\"\"1.2+\"\"\"\n",
    "trainset = torchvision.datasets.ImageFolder(root='./food/training', transform=transform_train)\n",
    "valset = torchvision.datasets.ImageFolder(root='./food/validation', transform=transform_val)\n",
    "testset = torchvision.datasets.ImageFolder(root='./food/evaluation', transform=transform_test)"
   ]
  },
  {
   "cell_type": "code",
   "execution_count": 9,
   "metadata": {
    "collapsed": true
   },
   "outputs": [],
   "source": [
    "\"\"\"1.3\"\"\"\n",
    "\n",
    "#Create DataLoader to draw samples from the dataset\n",
    "#In this case, we define a DataLoader to random sample our dataset. \n",
    "#For single sampling, we take one batch of data. Each batch consists 4 images\n",
    "trainloader = torch.utils.data.DataLoader(trainset, batch_size=32,\n",
    "shuffle=True, num_workers=2)\n",
    "\n",
    "valloader = torch.utils.data.DataLoader(valset, batch_size=32,\n",
    "shuffle=True, num_workers=2)\n",
    "\n",
    "testloader = torch.utils.data.DataLoader(testset, batch_size=32,\n",
    "shuffle=False, num_workers=2)"
   ]
  },
  {
   "cell_type": "code",
   "execution_count": 10,
   "metadata": {
    "collapsed": true
   },
   "outputs": [],
   "source": [
    "classes = ('Bread', 'DairyProduct', 'Dessert', 'Egg', 'Friedfood',\n",
    "           'Meat', 'Noodles-Pasta', 'Rice', 'Seafood', 'Soup', 'Vegetable')"
   ]
  },
  {
   "cell_type": "code",
   "execution_count": 11,
   "metadata": {
    "collapsed": false
   },
   "outputs": [
    {
     "name": "stdout",
     "output_type": "stream",
     "text": [
      "==> Building model..\n"
     ]
    }
   ],
   "source": [
    "print('==> Building model..')"
   ]
  },
  {
   "cell_type": "code",
   "execution_count": 12,
   "metadata": {
    "collapsed": true
   },
   "outputs": [],
   "source": [
    "import torch.nn as nn"
   ]
  },
  {
   "cell_type": "code",
   "execution_count": 13,
   "metadata": {
    "collapsed": true
   },
   "outputs": [],
   "source": [
    "# define your own model\n",
    "class Net(nn.Module):\n",
    "\n",
    "    #define the layers\n",
    "    def __init__(self):\n",
    "        super(Net, self).__init__()\n",
    "        self.conv1 = nn.Conv2d(3, 6, 5)\n",
    "        self.pool = nn.MaxPool2d(2, 2)\n",
    "        self.conv2 = nn.Conv2d(6, 16, 5)\n",
    "        self.conv3 = nn.Conv2d(16, 16, 3)\n",
    "        self.conv4 = nn.Conv2d(16, 16, 3)\n",
    "        self.fc1 = nn.Linear(16 * linear_size * linear_size, fc1_out)\n",
    "        self.fc2 = nn.Linear(fc1_out, fc2_out)\n",
    "        self.fc3 = nn.Linear(fc2_out, 11)\n",
    "        self.relu = nn.ReLU()\n",
    "        \n",
    "    #concatenate these layers\n",
    "    def forward(self, x):\n",
    "        x = self.pool(self.relu(self.conv1(x)))\n",
    "        x = self.pool(self.relu(self.conv2(x)))\n",
    "        x = self.pool(self.relu(self.conv3(x)))\n",
    "        x = self.pool(self.relu(self.conv4(x)))\n",
    "        x = x.view(-1, 16 * linear_size * linear_size)\n",
    "        x = self.relu(self.fc1(x))\n",
    "        x = self.relu(self.fc2(x))\n",
    "        x = self.fc3(x)\n",
    "        return x"
   ]
  },
  {
   "cell_type": "code",
   "execution_count": 14,
   "metadata": {
    "collapsed": false
   },
   "outputs": [
    {
     "name": "stdout",
     "output_type": "stream",
     "text": [
      "cuda\n"
     ]
    }
   ],
   "source": [
    "#declare a new model\n",
    "net = Net()\n",
    "# change all model tensor into cuda type\n",
    "# something like weight & bias are the tensor \n",
    "#net = net.to(device)\n",
    "print(device)\n",
    "if device == 'cuda':\n",
    "    net = net.cuda(0)\n",
    "else:\n",
    "    net = net.cpu()"
   ]
  },
  {
   "cell_type": "markdown",
   "metadata": {},
   "source": [
    "########################################################################\n",
    "\n",
    "# 3. Define a Loss function and optimize\n",
    "\n",
    "########################################################################"
   ]
  },
  {
   "cell_type": "code",
   "execution_count": 15,
   "metadata": {
    "collapsed": false
   },
   "outputs": [
    {
     "name": "stdout",
     "output_type": "stream",
     "text": [
      "==> Defining loss function and optimize..\n"
     ]
    }
   ],
   "source": [
    "print('==> Defining loss function and optimize..')"
   ]
  },
  {
   "cell_type": "code",
   "execution_count": 16,
   "metadata": {
    "collapsed": true
   },
   "outputs": [],
   "source": [
    "import torch.optim as optim\n",
    "\n",
    "#loss function\n",
    "criterion = nn.CrossEntropyLoss()\n",
    "#optimization algorithm\n",
    "optimizer = optim.SGD(net.parameters(), lr=0.001, momentum=0.9, weight_decay=1e-5)"
   ]
  },
  {
   "cell_type": "markdown",
   "metadata": {},
   "source": [
    "########################################################################\n",
    "\n",
    "# 4. Train the network\n",
    "\n",
    "Before training the model, we need to analysis the tensor variable.\n",
    "\n",
    "\n",
    "Each variable have many attibute, like: .grad_fn, .require_grad, .data, .grad...etc. The \".grad_fn\" attribute of \"torch.Tensor\" is an entry point into the function that has create this \"torch.Tensor\" variables. Because of \".grad_fn\" flag, we can easily create a computing graph in the form of DAG(directed acyclic graph).\n",
    "\n",
    "And then, the \".require_grad\" attribute allows us to determine whether the backward propagation function is going to calculate the gradient of this \"torch.Tensor\" variable. If one variable has a false value of require_grad, it represent that you don't want to calculate this variable's gradient, and also its gradient will not be updated.\n",
    "\n",
    "########################################################################"
   ]
  },
  {
   "cell_type": "code",
   "execution_count": 17,
   "metadata": {
    "collapsed": false
   },
   "outputs": [
    {
     "name": "stdout",
     "output_type": "stream",
     "text": [
      "==> Training model..\n"
     ]
    }
   ],
   "source": [
    "print('==> Training model..')"
   ]
  },
  {
   "cell_type": "code",
   "execution_count": 18,
   "metadata": {
    "collapsed": false
   },
   "outputs": [
    {
     "name": "stdout",
     "output_type": "stream",
     "text": [
      "train\n",
      "val\n"
     ]
    }
   ],
   "source": [
    "for phase in ['train', 'val']:\n",
    "    if phase == 'train':\n",
    "        print(phase)    \n",
    "    else:\n",
    "        print(phase)"
   ]
  },
  {
   "cell_type": "code",
   "execution_count": 21,
   "metadata": {
    "collapsed": false
   },
   "outputs": [
    {
     "name": "stdout",
     "output_type": "stream",
     "text": [
      "1 Epoch ss Loss: 1.2000 Acc: 1.3000\n"
     ]
    }
   ],
   "source": [
    "print('{:d} Epoch {} Loss: {:.4f} Acc: {:.4f}'.format(1, 'ss', 1.2, 1.3))"
   ]
  },
  {
   "cell_type": "code",
   "execution_count": 22,
   "metadata": {
    "collapsed": false,
    "scrolled": true
   },
   "outputs": [
    {
     "name": "stdout",
     "output_type": "stream",
     "text": [
      "0 Epoch train Loss: 0.0684 Acc: 0.2174\n",
      "0 Epoch val Loss: 0.0680 Acc: 0.2204\n",
      "1 Epoch train Loss: 0.0669 Acc: 0.2416\n",
      "1 Epoch val Loss: 0.0662 Acc: 0.2571\n",
      "2 Epoch train Loss: 0.0649 Acc: 0.2745\n",
      "2 Epoch val Loss: 0.0645 Acc: 0.2691\n",
      "3 Epoch train Loss: 0.0637 Acc: 0.2877\n",
      "3 Epoch val Loss: 0.0642 Acc: 0.2761\n",
      "4 Epoch train Loss: 0.0628 Acc: 0.2907\n",
      "4 Epoch val Loss: 0.0638 Acc: 0.2857\n",
      "5 Epoch train Loss: 0.0621 Acc: 0.3007\n",
      "5 Epoch val Loss: 0.0625 Acc: 0.2959\n",
      "6 Epoch train Loss: 0.0612 Acc: 0.3087\n",
      "6 Epoch val Loss: 0.0621 Acc: 0.3108\n",
      "7 Epoch train Loss: 0.0600 Acc: 0.3263\n",
      "7 Epoch val Loss: 0.0606 Acc: 0.3105\n",
      "8 Epoch train Loss: 0.0580 Acc: 0.3465\n",
      "8 Epoch val Loss: 0.0586 Acc: 0.3376\n",
      "9 Epoch train Loss: 0.0560 Acc: 0.3764\n",
      "9 Epoch val Loss: 0.0587 Acc: 0.3481\n",
      "10 Epoch train Loss: 0.0551 Acc: 0.3849\n",
      "10 Epoch val Loss: 0.0561 Acc: 0.3706\n",
      "11 Epoch train Loss: 0.0543 Acc: 0.3976\n",
      "11 Epoch val Loss: 0.0558 Acc: 0.3819\n",
      "12 Epoch train Loss: 0.0531 Acc: 0.4070\n",
      "12 Epoch val Loss: 0.0551 Acc: 0.3904\n",
      "13 Epoch train Loss: 0.0521 Acc: 0.4221\n",
      "13 Epoch val Loss: 0.0554 Acc: 0.3930\n",
      "14 Epoch train Loss: 0.0513 Acc: 0.4274\n",
      "14 Epoch val Loss: 0.0538 Acc: 0.4061\n",
      "15 Epoch train Loss: 0.0504 Acc: 0.4441\n",
      "15 Epoch val Loss: 0.0545 Acc: 0.4122\n",
      "16 Epoch train Loss: 0.0490 Acc: 0.4533\n",
      "16 Epoch val Loss: 0.0527 Acc: 0.4233\n",
      "17 Epoch train Loss: 0.0483 Acc: 0.4683\n",
      "17 Epoch val Loss: 0.0525 Acc: 0.4195\n",
      "18 Epoch train Loss: 0.0471 Acc: 0.4811\n",
      "18 Epoch val Loss: 0.0527 Acc: 0.4254\n",
      "19 Epoch train Loss: 0.0463 Acc: 0.4882\n",
      "19 Epoch val Loss: 0.0529 Acc: 0.4236\n",
      "20 Epoch train Loss: 0.0447 Acc: 0.5090\n",
      "20 Epoch val Loss: 0.0515 Acc: 0.4411\n",
      "21 Epoch train Loss: 0.0434 Acc: 0.5188\n",
      "21 Epoch val Loss: 0.0503 Acc: 0.4504\n",
      "22 Epoch train Loss: 0.0423 Acc: 0.5395\n",
      "22 Epoch val Loss: 0.0521 Acc: 0.4370\n",
      "23 Epoch train Loss: 0.0411 Acc: 0.5456\n",
      "23 Epoch val Loss: 0.0506 Acc: 0.4513\n",
      "24 Epoch train Loss: 0.0400 Acc: 0.5619\n",
      "24 Epoch val Loss: 0.0516 Acc: 0.4434\n",
      "25 Epoch train Loss: 0.0388 Acc: 0.5785\n",
      "25 Epoch val Loss: 0.0529 Acc: 0.4399\n",
      "26 Epoch train Loss: 0.0370 Acc: 0.6008\n",
      "26 Epoch val Loss: 0.0527 Acc: 0.4542\n",
      "27 Epoch train Loss: 0.0361 Acc: 0.6079\n",
      "27 Epoch val Loss: 0.0578 Acc: 0.4184\n",
      "28 Epoch train Loss: 0.0349 Acc: 0.6209\n",
      "28 Epoch val Loss: 0.0527 Acc: 0.4504\n",
      "29 Epoch train Loss: 0.0338 Acc: 0.6356\n",
      "29 Epoch val Loss: 0.0558 Acc: 0.4490\n",
      "30 Epoch train Loss: 0.0324 Acc: 0.6552\n",
      "30 Epoch val Loss: 0.0543 Acc: 0.4519\n",
      "31 Epoch train Loss: 0.0315 Acc: 0.6677\n",
      "31 Epoch val Loss: 0.0568 Acc: 0.4566\n",
      "32 Epoch train Loss: 0.0302 Acc: 0.6809\n",
      "32 Epoch val Loss: 0.0559 Acc: 0.4434\n",
      "33 Epoch train Loss: 0.0294 Acc: 0.6946\n",
      "33 Epoch val Loss: 0.0572 Acc: 0.4359\n",
      "34 Epoch train Loss: 0.0284 Acc: 0.7056\n",
      "34 Epoch val Loss: 0.0557 Acc: 0.4420\n",
      "35 Epoch train Loss: 0.0273 Acc: 0.7177\n",
      "35 Epoch val Loss: 0.0588 Acc: 0.4475\n",
      "36 Epoch train Loss: 0.0269 Acc: 0.7235\n",
      "36 Epoch val Loss: 0.0562 Acc: 0.4475\n",
      "37 Epoch train Loss: 0.0249 Acc: 0.7430\n",
      "37 Epoch val Loss: 0.0571 Acc: 0.4630\n",
      "38 Epoch train Loss: 0.0237 Acc: 0.7554\n",
      "38 Epoch val Loss: 0.0597 Acc: 0.4501\n",
      "39 Epoch train Loss: 0.0232 Acc: 0.7633\n",
      "39 Epoch val Loss: 0.0589 Acc: 0.4501\n",
      "40 Epoch train Loss: 0.0227 Acc: 0.7714\n",
      "40 Epoch val Loss: 0.0627 Acc: 0.4507\n",
      "41 Epoch train Loss: 0.0220 Acc: 0.7818\n",
      "41 Epoch val Loss: 0.0626 Acc: 0.4455\n",
      "42 Epoch train Loss: 0.0212 Acc: 0.7901\n",
      "42 Epoch val Loss: 0.0613 Acc: 0.4603\n",
      "43 Epoch train Loss: 0.0211 Acc: 0.7907\n",
      "43 Epoch val Loss: 0.0668 Acc: 0.4545\n",
      "44 Epoch train Loss: 0.0204 Acc: 0.7937\n",
      "44 Epoch val Loss: 0.0644 Acc: 0.4487\n",
      "45 Epoch train Loss: 0.0195 Acc: 0.8083\n",
      "45 Epoch val Loss: 0.0666 Acc: 0.4525\n",
      "46 Epoch train Loss: 0.0193 Acc: 0.8054\n",
      "46 Epoch val Loss: 0.0656 Acc: 0.4563\n",
      "47 Epoch train Loss: 0.0188 Acc: 0.8099\n",
      "47 Epoch val Loss: 0.0654 Acc: 0.4571\n",
      "48 Epoch train Loss: 0.0181 Acc: 0.8241\n",
      "48 Epoch val Loss: 0.0665 Acc: 0.4551\n",
      "49 Epoch train Loss: 0.0175 Acc: 0.8282\n",
      "49 Epoch val Loss: 0.0656 Acc: 0.4589\n",
      "50 Epoch train Loss: 0.0175 Acc: 0.8235\n",
      "50 Epoch val Loss: 0.0690 Acc: 0.4569\n",
      "51 Epoch train Loss: 0.0170 Acc: 0.8274\n",
      "51 Epoch val Loss: 0.0665 Acc: 0.4647\n",
      "52 Epoch train Loss: 0.0164 Acc: 0.8331\n",
      "52 Epoch val Loss: 0.0764 Acc: 0.4379\n",
      "53 Epoch train Loss: 0.0168 Acc: 0.8306\n",
      "53 Epoch val Loss: 0.0710 Acc: 0.4370\n",
      "54 Epoch train Loss: 0.0154 Acc: 0.8495\n",
      "54 Epoch val Loss: 0.0670 Acc: 0.4601\n",
      "55 Epoch train Loss: 0.0157 Acc: 0.8429\n",
      "55 Epoch val Loss: 0.0711 Acc: 0.4563\n",
      "56 Epoch train Loss: 0.0148 Acc: 0.8533\n",
      "56 Epoch val Loss: 0.0690 Acc: 0.4499\n",
      "57 Epoch train Loss: 0.0149 Acc: 0.8517\n",
      "57 Epoch val Loss: 0.0701 Acc: 0.4484\n",
      "58 Epoch train Loss: 0.0145 Acc: 0.8618\n",
      "58 Epoch val Loss: 0.0732 Acc: 0.4601\n",
      "59 Epoch train Loss: 0.0141 Acc: 0.8592\n",
      "59 Epoch val Loss: 0.0734 Acc: 0.4641\n",
      "60 Epoch train Loss: 0.0133 Acc: 0.8683\n",
      "60 Epoch val Loss: 0.0789 Acc: 0.4513\n",
      "61 Epoch train Loss: 0.0134 Acc: 0.8662\n",
      "61 Epoch val Loss: 0.0730 Acc: 0.4606\n",
      "62 Epoch train Loss: 0.0131 Acc: 0.8684\n",
      "62 Epoch val Loss: 0.0754 Acc: 0.4595\n",
      "63 Epoch train Loss: 0.0132 Acc: 0.8700\n",
      "63 Epoch val Loss: 0.0762 Acc: 0.4603\n",
      "64 Epoch train Loss: 0.0125 Acc: 0.8766\n",
      "64 Epoch val Loss: 0.0779 Acc: 0.4647\n",
      "65 Epoch train Loss: 0.0123 Acc: 0.8791\n",
      "65 Epoch val Loss: 0.0786 Acc: 0.4656\n",
      "66 Epoch train Loss: 0.0123 Acc: 0.8761\n",
      "66 Epoch val Loss: 0.0743 Acc: 0.4577\n",
      "67 Epoch train Loss: 0.0113 Acc: 0.8874\n",
      "67 Epoch val Loss: 0.0784 Acc: 0.4612\n",
      "68 Epoch train Loss: 0.0117 Acc: 0.8830\n",
      "68 Epoch val Loss: 0.0798 Acc: 0.4516\n",
      "69 Epoch train Loss: 0.0114 Acc: 0.8842\n",
      "69 Epoch val Loss: 0.0787 Acc: 0.4653\n",
      "70 Epoch train Loss: 0.0110 Acc: 0.8884\n",
      "70 Epoch val Loss: 0.0782 Acc: 0.4501\n",
      "71 Epoch train Loss: 0.0104 Acc: 0.8983\n",
      "71 Epoch val Loss: 0.0825 Acc: 0.4615\n",
      "72 Epoch train Loss: 0.0108 Acc: 0.8934\n",
      "72 Epoch val Loss: 0.0806 Acc: 0.4569\n",
      "73 Epoch train Loss: 0.0100 Acc: 0.8983\n",
      "73 Epoch val Loss: 0.0855 Acc: 0.4563\n",
      "74 Epoch train Loss: 0.0105 Acc: 0.8952\n",
      "74 Epoch val Loss: 0.0800 Acc: 0.4656\n",
      "75 Epoch train Loss: 0.0104 Acc: 0.8941\n",
      "75 Epoch val Loss: 0.0850 Acc: 0.4571\n",
      "76 Epoch train Loss: 0.0103 Acc: 0.8956\n",
      "76 Epoch val Loss: 0.0858 Acc: 0.4402\n",
      "77 Epoch train Loss: 0.0102 Acc: 0.9000\n",
      "77 Epoch val Loss: 0.0864 Acc: 0.4630\n",
      "78 Epoch train Loss: 0.0099 Acc: 0.9042\n",
      "78 Epoch val Loss: 0.0787 Acc: 0.4656\n",
      "79 Epoch train Loss: 0.0093 Acc: 0.9055\n",
      "79 Epoch val Loss: 0.0860 Acc: 0.4545\n",
      "80 Epoch train Loss: 0.0098 Acc: 0.9010\n",
      "80 Epoch val Loss: 0.0874 Acc: 0.4469\n",
      "81 Epoch train Loss: 0.0092 Acc: 0.9072\n",
      "81 Epoch val Loss: 0.0867 Acc: 0.4673\n",
      "82 Epoch train Loss: 0.0088 Acc: 0.9129\n",
      "82 Epoch val Loss: 0.0864 Acc: 0.4542\n",
      "83 Epoch train Loss: 0.0096 Acc: 0.9049\n",
      "83 Epoch val Loss: 0.0830 Acc: 0.4603\n",
      "84 Epoch train Loss: 0.0094 Acc: 0.9071\n",
      "84 Epoch val Loss: 0.0862 Acc: 0.4513\n",
      "85 Epoch train Loss: 0.0090 Acc: 0.9091\n",
      "85 Epoch val Loss: 0.0908 Acc: 0.4691\n",
      "86 Epoch train Loss: 0.0087 Acc: 0.9136\n",
      "86 Epoch val Loss: 0.0896 Acc: 0.4496\n",
      "87 Epoch train Loss: 0.0089 Acc: 0.9089\n",
      "87 Epoch val Loss: 0.0865 Acc: 0.4638\n",
      "88 Epoch train Loss: 0.0079 Acc: 0.9234\n",
      "88 Epoch val Loss: 0.0957 Acc: 0.4598\n",
      "89 Epoch train Loss: 0.0079 Acc: 0.9198\n",
      "89 Epoch val Loss: 0.0867 Acc: 0.4685\n",
      "90 Epoch train Loss: 0.0078 Acc: 0.9193\n",
      "90 Epoch val Loss: 0.0978 Acc: 0.4499\n",
      "91 Epoch train Loss: 0.0079 Acc: 0.9215\n",
      "91 Epoch val Loss: 0.0926 Acc: 0.4525\n",
      "92 Epoch train Loss: 0.0074 Acc: 0.9239\n",
      "92 Epoch val Loss: 0.0916 Acc: 0.4682\n",
      "93 Epoch train Loss: 0.0076 Acc: 0.9251\n",
      "93 Epoch val Loss: 0.0950 Acc: 0.4580\n",
      "94 Epoch train Loss: 0.0077 Acc: 0.9238\n",
      "94 Epoch val Loss: 0.0930 Acc: 0.4554\n",
      "95 Epoch train Loss: 0.0080 Acc: 0.9164\n",
      "95 Epoch val Loss: 0.0921 Acc: 0.4598\n",
      "96 Epoch train Loss: 0.0073 Acc: 0.9292\n",
      "96 Epoch val Loss: 0.0934 Acc: 0.4574\n",
      "97 Epoch train Loss: 0.0071 Acc: 0.9284\n",
      "97 Epoch val Loss: 0.0998 Acc: 0.4656\n",
      "98 Epoch train Loss: 0.0072 Acc: 0.9269\n",
      "98 Epoch val Loss: 0.0957 Acc: 0.4603\n",
      "99 Epoch train Loss: 0.0075 Acc: 0.9244\n",
      "99 Epoch val Loss: 0.0906 Acc: 0.4621\n",
      "Finished Training\n"
     ]
    }
   ],
   "source": [
    "#Set the model in training mode\n",
    "#because some function like: dropout, batchnorm...etc, will have \n",
    "#different behaviors in training/evaluation mode\n",
    "#[document]: https://pytorch.org/docs/stable/nn.html#torch.nn.Module.train\n",
    "import copy\n",
    "\n",
    "best_model = net\n",
    "best_acc = 0.0\n",
    "\n",
    "net.train()\n",
    "lr_scheduler = torch.optim.lr_scheduler.StepLR\n",
    "#scheduler = torch.optim.lr_scheduler.StepLR(optimizer, step_size = 1, gamma=0.5)\n",
    "\n",
    "for epoch in range(100):  # loop over the dataset multiple times\n",
    "    for phase in ['train', 'val']:\n",
    "        if phase == 'train':\n",
    "            net.train(True)  # Set model to training mode\n",
    "            dset_loaders = trainloader\n",
    "        else:\n",
    "            net.train(False)  # Set model to evaluate mode\n",
    "            dset_loaders = valloader\n",
    "            \n",
    "        #scheduler.step()\n",
    "        running_loss = 0.0\n",
    "        correct = 0\n",
    "        \n",
    "        for data in dset_loaders:\n",
    "        \n",
    "            (inputs, labels) = data\n",
    "            \n",
    "            #change the type into cuda tensor \n",
    "            if device == 'cuda':\n",
    "                inputs = inputs.cuda(0)\n",
    "                labels = labels.cuda(0)\n",
    "            else:\n",
    "                inputs = inputs.cpu()\n",
    "                labels = labels.cpu()\n",
    "\n",
    "            #print(labels)\n",
    "            #print(inputs)\n",
    "        \n",
    "            # zero the parameter gradients\n",
    "            optimizer.zero_grad()\n",
    "\n",
    "            # forward + backward + optimize\n",
    "            outputs = net(inputs)\n",
    "            # select the class with highest probability\n",
    "            _, pred = outputs.max(1)\n",
    "            # if the model predicts the same results as the true\n",
    "            # label, then the correct counter will plus 1\n",
    "            correct += pred.eq(labels).sum().item()\n",
    "        \n",
    "            loss = criterion(outputs, labels)\n",
    "        \n",
    "            if phase == 'train':\n",
    "                loss.backward()\n",
    "                optimizer.step()\n",
    "\n",
    "            # print statistics\n",
    "            running_loss += loss.item()\n",
    "\n",
    "        if phase == 'train':\n",
    "            epoch_loss = running_loss / len(trainset)\n",
    "            epoch_acc = correct / len(trainset)\n",
    "        else:\n",
    "            epoch_loss = running_loss / len(valset)\n",
    "            epoch_acc = correct / len(valset)\n",
    "\n",
    "        print('{:d} Epoch {} Loss: {:.4f} Acc: {:.4f}'.format(epoch, phase, epoch_loss, epoch_acc))\n",
    "\n",
    "        # deep copy the model\n",
    "        if phase == 'val' and epoch_acc > best_acc:\n",
    "            best_acc = epoch_acc\n",
    "            best_model = copy.deepcopy(net)\n",
    "print('Finished Training')\n",
    "\n",
    "net = best_model"
   ]
  },
  {
   "cell_type": "code",
   "execution_count": 23,
   "metadata": {
    "collapsed": false
   },
   "outputs": [
    {
     "name": "stderr",
     "output_type": "stream",
     "text": [
      "/home/ccma/anaconda3/lib/python3.5/site-packages/matplotlib/figure.py:98: MatplotlibDeprecationWarning: \n",
      "Adding an axes using the same arguments as a previous axes currently reuses the earlier instance.  In a future version, a new instance will always be created and returned.  Meanwhile, this warning can be suppressed, and the future behavior ensured, by passing a unique label to each axes instance.\n",
      "  \"Adding an axes using the same arguments as a previous axes \"\n"
     ]
    },
    {
     "data": {
      "image/png": "[encoded data removed]",
      "text/plain": [
       "<Figure size 432x288 with 2 Axes>"
      ]
     },
     "metadata": {},
     "output_type": "display_data"
    },
    {
     "data": {
      "image/png": "[encoded data removed]",
      "text/plain": [
       "<Figure size 432x288 with 3 Axes>"
      ]
     },
     "metadata": {},
     "output_type": "display_data"
    }
   ],
   "source": [
    "import numpy as np\n",
    "import matplotlib.mlab as mlab\n",
    "import matplotlib.pyplot as plt\n",
    "\n",
    "def show_conv_weight_distribution():\n",
    "    for i in range(1, 3):\n",
    "        ax = plt.subplot(1, 2, i)\n",
    "        #ax.set_ylim([0, 20000])\n",
    "        plt.grid(False)\n",
    "\n",
    "    plt.subplot(1, 2, 1)\n",
    "    x = net.conv1.weight.view(-1,1).cpu().detach().numpy()\n",
    "    n, bins, patches = plt.hist(x, facecolor='green', alpha=0.75)\n",
    "    plt.xlabel('conv1')\n",
    "    plt.ylabel('Probability')\n",
    "\n",
    "    ax = plt.subplot(1, 2, 2)\n",
    "    x = net.conv2.weight.view(-1,1).cpu().detach().numpy()\n",
    "    n, bins, patches = plt.hist(x, facecolor='green', alpha=0.75)\n",
    "    plt.xlabel('conv2')\n",
    "\n",
    "    plt.show()\n",
    "\n",
    "def show_fc_weight_distribution():\n",
    "    for i in range(1, 4):\n",
    "        ax = plt.subplot(1, 3, i)\n",
    "        #ax.set_ylim([0, 20000])\n",
    "        plt.grid(False)\n",
    "\n",
    "    ax = plt.subplot(1, 3, 1)\n",
    "    x = net.fc1.weight.view(-1,1).cpu().detach().numpy()\n",
    "    n, bins, patches = plt.hist(x, facecolor='green', alpha=0.75)\n",
    "    plt.xlabel('fc1')\n",
    "    plt.ylabel('Probability')\n",
    "\n",
    "    ax = plt.subplot(1, 3, 2)\n",
    "    x = net.fc2.weight.view(-1,1).cpu().detach().numpy()\n",
    "    n, bins, patches = plt.hist(x, facecolor='green', alpha=0.75)\n",
    "    plt.xlabel('fc2')\n",
    "\n",
    "    ax = plt.subplot(1, 3, 3)\n",
    "    x = net.fc3.weight.view(-1,1).cpu().detach().numpy()\n",
    "    n, bins, patches = plt.hist(x, facecolor='green', alpha=0.75)\n",
    "    plt.xlabel('fc3')\n",
    "\n",
    "    plt.show()\n",
    "\n",
    "show_conv_weight_distribution()\n",
    "show_fc_weight_distribution()"
   ]
  },
  {
   "cell_type": "code",
   "execution_count": 24,
   "metadata": {
    "collapsed": false
   },
   "outputs": [
    {
     "name": "stderr",
     "output_type": "stream",
     "text": [
      "/home/ccma/anaconda3/lib/python3.5/site-packages/matplotlib/figure.py:98: MatplotlibDeprecationWarning: \n",
      "Adding an axes using the same arguments as a previous axes currently reuses the earlier instance.  In a future version, a new instance will always be created and returned.  Meanwhile, this warning can be suppressed, and the future behavior ensured, by passing a unique label to each axes instance.\n",
      "  \"Adding an axes using the same arguments as a previous axes \"\n"
     ]
    },
    {
     "data": {
      "image/png": "[encoded data removed]",
      "text/plain": [
       "<Figure size 432x288 with 2 Axes>"
      ]
     },
     "metadata": {},
     "output_type": "display_data"
    },
    {
     "data": {
      "image/png": "[encoded data removed]",
      "text/plain": [
       "<Figure size 432x288 with 3 Axes>"
      ]
     },
     "metadata": {},
     "output_type": "display_data"
    }
   ],
   "source": [
    "import numpy as np\n",
    "import matplotlib.mlab as mlab\n",
    "import matplotlib.pyplot as plt\n",
    "\n",
    "def show_conv_bias_distribution():\n",
    "    for i in range(1, 3):\n",
    "        ax = plt.subplot(1, 2, i)\n",
    "        #ax.set_ylim([0, 20000])\n",
    "        plt.grid(False)\n",
    "\n",
    "    plt.subplot(1, 2, 1)\n",
    "    x = net.conv1.bias.view(-1,1).cpu().detach().numpy()\n",
    "    n, bins, patches = plt.hist(x, facecolor='green', alpha=0.75)\n",
    "    plt.xlabel('conv1')\n",
    "    plt.ylabel('Probability')\n",
    "\n",
    "    ax = plt.subplot(1, 2, 2)\n",
    "    x = net.conv2.bias.view(-1,1).cpu().detach().numpy()\n",
    "    n, bins, patches = plt.hist(x, facecolor='green', alpha=0.75)\n",
    "    plt.xlabel('conv2')\n",
    "\n",
    "    plt.show()\n",
    "\n",
    "def show_fc_bias_distribution():\n",
    "    for i in range(1, 4):\n",
    "        ax = plt.subplot(1, 3, i)\n",
    "        #ax.set_ylim([0, 20000])\n",
    "        plt.grid(False)\n",
    "\n",
    "    ax = plt.subplot(1, 3, 1)\n",
    "    x = net.fc1.bias.view(-1,1).cpu().detach().numpy()\n",
    "    n, bins, patches = plt.hist(x, facecolor='green', alpha=0.75)\n",
    "    plt.xlabel('fc1')\n",
    "    plt.ylabel('Probability')\n",
    "\n",
    "    ax = plt.subplot(1, 3, 2)\n",
    "    x = net.fc2.bias.view(-1,1).cpu().detach().numpy()\n",
    "    n, bins, patches = plt.hist(x, facecolor='green', alpha=0.75)\n",
    "    plt.xlabel('fc2')\n",
    "\n",
    "    ax = plt.subplot(1, 3, 3)\n",
    "    x = net.fc3.bias.view(-1,1).cpu().detach().numpy()\n",
    "    n, bins, patches = plt.hist(x, facecolor='green', alpha=0.75)\n",
    "    plt.xlabel('fc3')\n",
    "\n",
    "    plt.show()\n",
    "\n",
    "show_conv_bias_distribution()\n",
    "show_fc_bias_distribution()"
   ]
  },
  {
   "cell_type": "code",
   "execution_count": 25,
   "metadata": {
    "collapsed": false
   },
   "outputs": [
    {
     "name": "stdout",
     "output_type": "stream",
     "text": [
      "==> Saving model..\n",
      "Finished Saving\n"
     ]
    },
    {
     "name": "stderr",
     "output_type": "stream",
     "text": [
      "/home/ccma/anaconda3/lib/python3.5/site-packages/torch/serialization.py:241: UserWarning: Couldn't retrieve source code for container of type Net. It won't be checked for correctness upon loading.\n",
      "  \"type \" + obj.__name__ + \". It won't be checked \"\n"
     ]
    }
   ],
   "source": [
    "#After training , save the model first\n",
    "#You can saves only the model parameters or entire model\n",
    "#Some difference between the two is that entire model \n",
    "#not only include parameters but also record hwo each \n",
    "#layer is connected(forward method).\n",
    "#[document]: https://pytorch.org/docs/master/notes/serialization.html\n",
    "\n",
    "print('==> Saving model..')\n",
    "\n",
    "#only save model parameters\n",
    "torch.save(net.state_dict(), './checkpoint.t7')\n",
    "#you also can store some log information\n",
    "state = {\n",
    "    'net': net.state_dict(),\n",
    "    'acc': 100.*correct/len(trainset),\n",
    "    'epoch': 75\n",
    "}\n",
    "torch.save(state, './checkpoint.t7')\n",
    "\n",
    "#save entire model\n",
    "torch.save(net, './model.pt')\n",
    "\n",
    "print('Finished Saving')"
   ]
  },
  {
   "cell_type": "markdown",
   "metadata": {},
   "source": [
    "########################################################################\n",
    "\n",
    "# 5. Test the network on the test data\n",
    "\n",
    "########################################################################"
   ]
  },
  {
   "cell_type": "markdown",
   "metadata": {
    "collapsed": false
   },
   "source": [
    "#Before testing, we can load the saved model\n",
    "#Depend on how you save your model, need \n",
    "#different way to use it\n",
    "\n",
    "print('==> Loading model..')\n",
    "\n",
    "#If you just save the model parameters, you\n",
    "#need to redefine the model architecture, and\n",
    "#load the parameters into your model\n",
    "net = Net()\n",
    "checkpoint = torch.load('./checkpoint.t7')\n",
    "net.load_state_dict(checkpoint['net'])\n",
    "\n",
    "#If you save the entire model\n",
    "net = torch.load('./model.pt')\n",
    "\n",
    "print('Finished Loading')"
   ]
  },
  {
   "cell_type": "code",
   "execution_count": 26,
   "metadata": {
    "collapsed": false
   },
   "outputs": [
    {
     "name": "stdout",
     "output_type": "stream",
     "text": [
      "==> Testing model..\n"
     ]
    },
    {
     "data": {
      "text/plain": [
       "Net(\n",
       "  (conv1): Conv2d(3, 6, kernel_size=(5, 5), stride=(1, 1))\n",
       "  (pool): MaxPool2d(kernel_size=2, stride=2, padding=0, dilation=1, ceil_mode=False)\n",
       "  (conv2): Conv2d(6, 16, kernel_size=(5, 5), stride=(1, 1))\n",
       "  (conv3): Conv2d(16, 16, kernel_size=(3, 3), stride=(1, 1))\n",
       "  (conv4): Conv2d(16, 16, kernel_size=(3, 3), stride=(1, 1))\n",
       "  (fc1): Linear(in_features=7056, out_features=128, bias=True)\n",
       "  (fc2): Linear(in_features=128, out_features=84, bias=True)\n",
       "  (fc3): Linear(in_features=84, out_features=11, bias=True)\n",
       "  (relu): ReLU()\n",
       ")"
      ]
     },
     "execution_count": 26,
     "metadata": {},
     "output_type": "execute_result"
    }
   ],
   "source": [
    "print('==> Testing model..')\n",
    "\n",
    "#Set the model in evaluation mode\n",
    "#[document]: https://pytorch.org/docs/stable/nn.html#torch.nn.Module.eval \n",
    "net.eval()\n"
   ]
  },
  {
   "cell_type": "code",
   "execution_count": 27,
   "metadata": {
    "collapsed": false
   },
   "outputs": [
    {
     "name": "stdout",
     "output_type": "stream",
     "text": [
      "Accuracy of the network on the 3347 test images: 49.39%, and loss is: 0.083\n",
      "Accuracy of Bread : 39 %\n",
      "Accuracy of DairyProduct : 22 %\n",
      "Accuracy of Dessert : 80 %\n",
      "Accuracy of   Egg : 44 %\n",
      "Accuracy of Friedfood : 26 %\n",
      "Accuracy of  Meat : 33 %\n",
      "Accuracy of Noodles-Pasta : 59 %\n",
      "Accuracy of  Rice : 53 %\n",
      "Accuracy of Seafood : 48 %\n",
      "Accuracy of  Soup : 43 %\n",
      "Accuracy of Vegetable : 73 %\n"
     ]
    }
   ],
   "source": [
    "######################\n",
    "#######LAB 1-1########\n",
    "\"\"\"\n",
    "To Do Here\n",
    "\n",
    "        You should complete the testing step in LAB 1-1\n",
    "You should show the total accuracy & loss [10000 cifar10 test cases]\n",
    "  You also need to tell us, how about the accuracy for each class\n",
    " \n",
    "    For example: Total accuracy is: 60.0% and loss is: 0.02  \n",
    "                 For each class in cifar 10:\n",
    "                 Accuracy of plane : 58.0%\n",
    "                 Accuracy of   car : 22.4%\n",
    "                            .\n",
    "                            .\n",
    "                            .\n",
    "\"\"\"\n",
    "######################\n",
    "correct = 0\n",
    "total = 0\n",
    "running_loss = 0.0\n",
    "\n",
    "class_correct = list(0. for i in range(11))\n",
    "class_total = list(0. for i in range(11))\n",
    "\n",
    "with torch.no_grad():\n",
    "    for data in testloader:\n",
    "        images, labels = data\n",
    "\n",
    "        if device == 'cuda':\n",
    "            images = images.cuda(0)\n",
    "            labels = labels.cuda(0)\n",
    "        else:\n",
    "            images = images.cpu()\n",
    "            labels = labels.cpu()\n",
    "        \n",
    "        outputs = net(images)\n",
    "        _, predicted = torch.max(outputs, 1)\n",
    "        \n",
    "        total += labels.size(0)\n",
    "        correct += (predicted == labels).sum().item()\n",
    "\n",
    "        loss = criterion(outputs, labels)\n",
    "        running_loss += loss.item()\n",
    "\n",
    "        c = (predicted == labels).squeeze()\n",
    "        #print(predicted)\n",
    "        #print(labels.size(0))\n",
    "        #print(c)\n",
    "        for i in range(labels.size(0)):\n",
    "            label = labels[i]\n",
    "            class_correct[label] += c[i].item()\n",
    "            class_total[label] += 1\n",
    "\n",
    "print('Accuracy of the network on the %d test images: %.2f%%, and loss is: %.3f'\n",
    "      % (total, 100 * correct / total, running_loss / total))\n",
    "\n",
    "for i in range(11):\n",
    "    print('Accuracy of %5s : %2d %%' % (\n",
    "        classes[i], 100 * class_correct[i] / class_total[i]))"
   ]
  },
  {
   "cell_type": "code",
   "execution_count": null,
   "metadata": {
    "collapsed": true
   },
   "outputs": [],
   "source": []
  },
  {
   "cell_type": "code",
   "execution_count": null,
   "metadata": {
    "collapsed": true
   },
   "outputs": [],
   "source": []
  },
  {
   "cell_type": "code",
   "execution_count": null,
   "metadata": {
    "collapsed": true
   },
   "outputs": [],
   "source": []
  },
  {
   "cell_type": "code",
   "execution_count": null,
   "metadata": {
    "collapsed": true
   },
   "outputs": [],
   "source": []
  }
 ],
 "metadata": {
  "anaconda-cloud": {},
  "kernelspec": {
   "display_name": "Python [default]",
   "language": "python",
   "name": "python3"
  },
  "language_info": {
   "codemirror_mode": {
    "name": "ipython",
    "version": 3
   },
   "file_extension": ".py",
   "mimetype": "text/x-python",
   "name": "python",
   "nbconvert_exporter": "python",
   "pygments_lexer": "ipython3",
   "version": "3.5.2"
  }
 },
 "nbformat": 4,
 "nbformat_minor": 2
}
